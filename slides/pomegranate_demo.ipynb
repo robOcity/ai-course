{
 "cells": [
  {
   "cell_type": "markdown",
   "metadata": {},
   "source": [
    "# Bayes nets implemented using Pomegranate"
   ]
  },
  {
   "cell_type": "code",
   "execution_count": 1,
   "metadata": {},
   "outputs": [],
   "source": [
    "import matplotlib.pyplot as plt\n",
    "from pomegranate import DiscreteDistribution, ConditionalProbabilityTable, Node, BayesianNetwork\n",
    "import seaborn, time\n",
    "seaborn.set_style('whitegrid')\n"
   ]
  },
  {
   "cell_type": "code",
   "execution_count": 2,
   "metadata": {},
   "outputs": [],
   "source": [
    "BURGLARY = DiscreteDistribution({'T': 0.001, 'F': 0.999})\n",
    "EARTHQUAKE = DiscreteDistribution({'T': 0.002, 'F': 0.998})"
   ]
  },
  {
   "cell_type": "code",
   "execution_count": 3,
   "metadata": {},
   "outputs": [],
   "source": [
    "ALARM = ConditionalProbabilityTable([['T', 'T', 0.95],\n",
    "                                  ['T', 'F', 0.94],\n",
    "                                  ['F', 'T', 0.29],\n",
    "                                  ['F', 'T', 0.001]], [BURGLARY, EARTHQUAKE])\n",
    "\n",
    "MARY_CALLS = ConditionalProbabilityTable([['T', 0.70],\n",
    "                                  ['F', 0.01]], [ALARM])\n",
    "\n",
    "JOHN_CALLS = ConditionalProbabilityTable([['T', 0.90],\n",
    "                                  ['F', 0.05]], [ALARM])"
   ]
  },
  {
   "cell_type": "code",
   "execution_count": 4,
   "metadata": {},
   "outputs": [],
   "source": [
    "node_burglery = Node(BURGLARY, name=\"Burglary\")\n",
    "node_earthquake = Node(EARTHQUAKE, name=\"Earthquake\")\n",
    "node_alarm = Node(ALARM, name=\"Alarm\")\n",
    "node_mary_calls = Node(MARY_CALLS, name=\"Mary Calls\")\n",
    "node_john_calls = Node(JOHN_CALLS, name=\"John Calls\")"
   ]
  },
  {
   "cell_type": "code",
   "execution_count": 5,
   "metadata": {},
   "outputs": [],
   "source": [
    "model = BayesianNetwork('Alarming')\n",
    "model.add_nodes(node_burglery, node_earthquake, node_alarm, node_mary_calls, node_john_calls)\n",
    "model.add_edge(node_burglery, node_alarm)\n",
    "model.add_edge(node_earthquake, node_alarm)\n",
    "model.add_edge(node_alarm, node_mary_calls)\n",
    "model.add_edge(node_alarm, node_john_calls)"
   ]
  },
  {
   "cell_type": "code",
   "execution_count": 6,
   "metadata": {},
   "outputs": [
    {
     "ename": "ValueError",
     "evalue": "must have matplotlib and pygraphviz installed for visualization",
     "output_type": "error",
     "traceback": [
      "\u001b[0;31m---------------------------------------------------------------------------\u001b[0m",
      "\u001b[0;31mValueError\u001b[0m                                Traceback (most recent call last)",
      "\u001b[0;32m<ipython-input-6-4fc76268a67f>\u001b[0m in \u001b[0;36m<module>\u001b[0;34m\u001b[0m\n\u001b[1;32m      1\u001b[0m \u001b[0mplt\u001b[0m\u001b[0;34m.\u001b[0m\u001b[0mfigure\u001b[0m\u001b[0;34m(\u001b[0m\u001b[0mfigsize\u001b[0m\u001b[0;34m=\u001b[0m\u001b[0;34m(\u001b[0m\u001b[0;36m14\u001b[0m\u001b[0;34m,\u001b[0m \u001b[0;36m10\u001b[0m\u001b[0;34m)\u001b[0m\u001b[0;34m)\u001b[0m\u001b[0;34m\u001b[0m\u001b[0;34m\u001b[0m\u001b[0m\n\u001b[0;32m----> 2\u001b[0;31m \u001b[0mmodel\u001b[0m\u001b[0;34m.\u001b[0m\u001b[0mplot\u001b[0m\u001b[0;34m(\u001b[0m\u001b[0;34m)\u001b[0m\u001b[0;34m\u001b[0m\u001b[0;34m\u001b[0m\u001b[0m\n\u001b[0m\u001b[1;32m      3\u001b[0m \u001b[0mplt\u001b[0m\u001b[0;34m.\u001b[0m\u001b[0mshow\u001b[0m\u001b[0;34m(\u001b[0m\u001b[0;34m)\u001b[0m\u001b[0;34m\u001b[0m\u001b[0;34m\u001b[0m\u001b[0m\n",
      "\u001b[0;32m~/miniconda3/envs/bayes-net/lib/python3.8/site-packages/pomegranate/BayesianNetwork.pyx\u001b[0m in \u001b[0;36mpomegranate.BayesianNetwork.BayesianNetwork.plot\u001b[0;34m()\u001b[0m\n",
      "\u001b[0;31mValueError\u001b[0m: must have matplotlib and pygraphviz installed for visualization"
     ]
    },
    {
     "data": {
      "text/plain": [
       "<Figure size 1008x720 with 0 Axes>"
      ]
     },
     "metadata": {},
     "output_type": "display_data"
    }
   ],
   "source": [
    "plt.figure(figsize=(14, 10))\n",
    "model.plot()\n",
    "plt.show()"
   ]
  },
  {
   "cell_type": "code",
   "execution_count": null,
   "metadata": {},
   "outputs": [],
   "source": []
  }
 ],
 "metadata": {
  "kernelspec": {
   "display_name": "bayes-net",
   "language": "python",
   "name": "bayes-net"
  },
  "language_info": {
   "codemirror_mode": {
    "name": "ipython",
    "version": 3
   },
   "file_extension": ".py",
   "mimetype": "text/x-python",
   "name": "python",
   "nbconvert_exporter": "python",
   "pygments_lexer": "ipython3",
   "version": "3.8.5"
  }
 },
 "nbformat": 4,
 "nbformat_minor": 5
}
