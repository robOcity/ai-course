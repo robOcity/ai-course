{
 "cells": [
  {
   "cell_type": "markdown",
   "metadata": {
    "slideshow": {
     "slide_type": "slide"
    }
   },
   "source": [
    "# MSDS688 -- Artifical Intelligence\n",
    "\n",
    "## Week n - topic\n",
    "\n",
    "![Kemplenens chess playing Turk](../images/kemplenens-chess-playing-turk.png)\n",
    "\n",
    "Kempelen was famous for the chess-playing Turk he had created. This life-sized model was exhibited all over Europe and America by Kempelen himself and then by others until its demise in a fire in 1854; in the course of its long career, reportedly beating both Napoleon and Charles Babbage. Although aspects of its movement — the motion of the arms, head, etc. — were mechanical, it was not, of course, a full automaton. The crucial chess-playing aspect was the work of a succession of skillful and diminutive human chess players concealed in its pedestal, something all but admitted by Kempelen, who said his main achievement had been to create an illusion. People no doubt knew it was a hoax, but they were fascinated anyway, because it dramatized the question of the age: whether a machine could reason, and relatedly, whether the human mind might itself be a kind of machine.\n",
    "\n",
    "Edgar Allan Poe was taken by the question and in 1836 wrote an essay about Kempelen’s Turk and Babbage’s Difference Engine. He believed a machine could calculate, because calculation was a fixed and determinate process, but not that a machine could play chess because, he said, chess was indeterminate: the machine would have to respond to its opponent’s moves. So Babbage’s machine was genuine but Kempelen’s fraudulent.\n",
    "\n",
    "Cite: Riskin, J. (n.d.). Frolicsome Engines: The Long Prehistory of Artificial Intelligence. Retrieved April 10, 2018, from [https://publicdomainreview.org/2016/05/04/frolicsome-engines-the-long-prehistory-of-artificial-intelligence/](https://publicdomainreview.org/2016/05/04/frolicsome-engines-the-long-prehistory-of-artificial-intelligence/)"
   ]
  },
  {
   "cell_type": "markdown",
   "metadata": {
    "slideshow": {
     "slide_type": "slide"
    }
   },
   "source": [
    "# Review - Concepts and techniques"
   ]
  },
  {
   "cell_type": "markdown",
   "metadata": {
    "slideshow": {
     "slide_type": "slide"
    }
   },
   "source": [
    "# Quiz / Exercise"
   ]
  },
  {
   "cell_type": "markdown",
   "metadata": {
    "slideshow": {
     "slide_type": "slide"
    }
   },
   "source": [
    "# Lecture"
   ]
  },
  {
   "cell_type": "markdown",
   "metadata": {
    "slideshow": {
     "slide_type": "notes"
    }
   },
   "source": [
    "_Note: Start with a promise_ "
   ]
  },
  {
   "cell_type": "markdown",
   "metadata": {
    "slideshow": {
     "slide_type": "slide"
    }
   },
   "source": [
    "## Learning Objectives\n",
    "\n",
    "1. Select models that do not perform well, remove them from consideration and those that are left are good-enough or _probably approximately correct_.\n",
    "\n",
    "1. Explain how neural network functions including the neurons, activation function, weights, forward propagation and back propagation.\n",
    "\n",
    "1. Summarize the relationship between the number of features in a model and the density of data points. \n",
    "\n",
    "1. Illustrate boosting improves the performance of decision trees through the use of weak learners and decision stumps.\n"
   ]
  },
  {
   "cell_type": "markdown",
   "metadata": {
    "slideshow": {
     "slide_type": "slide"
    }
   },
   "source": [
    "# Break \n",
    "\n",
    "![]()"
   ]
  },
  {
   "cell_type": "markdown",
   "metadata": {
    "slideshow": {
     "slide_type": "slide"
    }
   },
   "source": [
    "# Demonstration"
   ]
  },
  {
   "cell_type": "markdown",
   "metadata": {
    "slideshow": {
     "slide_type": "slide"
    }
   },
   "source": [
    "# Exercise"
   ]
  },
  {
   "cell_type": "markdown",
   "metadata": {
    "slideshow": {
     "slide_type": "notes"
    }
   },
   "source": [
    "_Note: End with humor_"
   ]
  },
  {
   "cell_type": "code",
   "execution_count": null,
   "metadata": {},
   "outputs": [],
   "source": []
  }
 ],
 "metadata": {
  "kernelspec": {
   "display_name": "Python [default]",
   "language": "python",
   "name": "python3"
  },
  "language_info": {
   "codemirror_mode": {
    "name": "ipython",
    "version": 3
   },
   "file_extension": ".py",
   "mimetype": "text/x-python",
   "name": "python",
   "nbconvert_exporter": "python",
   "pygments_lexer": "ipython3",
   "version": "3.6.5"
  }
 },
 "nbformat": 4,
 "nbformat_minor": 2
}
