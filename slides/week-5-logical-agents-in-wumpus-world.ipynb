{
 "cells": [
  {
   "cell_type": "code",
   "execution_count": 1,
   "metadata": {},
   "outputs": [],
   "source": [
    "from IPython.display import HTML, Image, YouTubeVideo"
   ]
  },
  {
   "cell_type": "markdown",
   "metadata": {
    "slideshow": {
     "slide_type": "slide"
    }
   },
   "source": [
    "# MSDS688 -- Artifical Intelligence\n",
    "\n",
    "## Week 5 - Logic Agents in Wumpus World\n",
    "\n",
    "![Kircher's hydraulic organ](images/kirchers-hydraulic-organ.png)\n",
    "\n",
    "description here\n",
    "\n",
    "Cite: Riskin, J. (n.d.). Frolicsome Engines: The Long Prehistory of Artificial Intelligence. Retrieved April 10, 2018, from [https://publicdomainreview.org/2016/05/04/frolicsome-engines-the-long-prehistory-of-artificial-intelligence/](https://publicdomainreview.org/2016/05/04/frolicsome-engines-the-long-prehistory-of-artificial-intelligence/)"
   ]
  },
  {
   "cell_type": "markdown",
   "metadata": {
    "slideshow": {
     "slide_type": "slide"
    }
   },
   "source": [
    "# Review - Concepts and techniques"
   ]
  },
  {
   "cell_type": "markdown",
   "metadata": {
    "slideshow": {
     "slide_type": "slide"
    }
   },
   "source": [
    "# Quiz / Exercise"
   ]
  },
  {
   "cell_type": "markdown",
   "metadata": {
    "slideshow": {
     "slide_type": "slide"
    }
   },
   "source": [
    "# Lecture"
   ]
  },
  {
   "cell_type": "markdown",
   "metadata": {},
   "source": [
    "## Motivation\n",
    "\n"
   ]
  },
  {
   "cell_type": "markdown",
   "metadata": {
    "slideshow": {
     "slide_type": "notes"
    }
   },
   "source": [
    "_Note: Start with a promise_ "
   ]
  },
  {
   "cell_type": "markdown",
   "metadata": {
    "slideshow": {
     "slide_type": "slide"
    }
   },
   "source": [
    "## Learning Objectives\n",
    "\n",
    "1. Construct sentences using propositional logic to represent knowledge.\n",
    "\n",
    "1. Produce new knowledge by applying inference rules to what is already known.\n",
    "\n",
    "1. Illustrate the construction and use of knowledge base to achieve a goal.\n",
    "\n",
    "1. Explain the limits of propositional logic in describing relationships between objects and large environments.\n"
   ]
  },
  {
   "cell_type": "markdown",
   "metadata": {},
   "source": [
    "## Welcome to Wumpus World\n",
    "\n",
    "![wumpus world](images/Figure-S7-2-wumpus-world.png)"
   ]
  },
  {
   "cell_type": "markdown",
   "metadata": {},
   "source": [
    "## PEAS for Wumpus World\n",
    "\n",
    "* Performance: \n",
    "    + -1 per move, -10 per arrow, -1000 death, +1000 gold\n",
    "* Environment\n",
    "    - 4x4 cells, agent always starts in cell 1,1\n",
    "    - Gold and wumpus are positioned at random but not starting cell\n",
    "    - Pits can exist in any cell except the start\n",
    "* Sensors\n",
    "    + Smell in cells adjacent to wumpus\n",
    "    + Breeze in cells adjacent to a pit\n",
    "    + Glitter if gold in the same cell\n",
    "    + Scream if wumpus is killed by arrow\n",
    "* Actions\n",
    "    + Shoot kill wumpus if you are facing it and uses only arrow\n",
    "    + Grab picks up gold if you are in the same cell\n",
    "    + Climb exists the cave and only works in starting cell\n",
    "    + Death if agent enters cell with the wumpus"
   ]
  },
  {
   "cell_type": "markdown",
   "metadata": {},
   "source": [
    "## Exercise: Characterize of Wumpus World\n",
    "\n",
    "Take a few minutes to choose the characteristics that you feel best describe wumpus world.\n",
    "\n",
    "* Observable fully or partially?\n",
    "* Single or multi-agent?\n",
    "* Deterministic or stochastic?\n",
    "* Episodic or sequential?\n",
    "* Static or dynamic?\n",
    "* Discrete or continuous?"
   ]
  },
  {
   "cell_type": "markdown",
   "metadata": {},
   "source": [
    "## Characteristics of Wumpus World\n",
    "\n",
    "* Observable fully or partially?  \n",
    "    + Partially: Unknown Location of wumpus & gold\n",
    "    + Fully: State transition model is unknown\n",
    "* **Single** or multi-agent\n",
    "* **Deterministic** or stochastic?\n",
    "* Episodic or **sequential**?\n",
    "* **Static** or dynamic?\n",
    "* **Discrete** or continuous?"
   ]
  },
  {
   "cell_type": "markdown",
   "metadata": {},
   "source": [
    "## Notes\n",
    "\n",
    "\"Clearly, it is discrete, static, and single-agent. (The wumpus doesn’t move, fortunately.)  It is sequential, because rewards may come only after many actions are taken. It is partially observable, because some aspects of the state are not directly perceivable: the agent’s location, the wumpus’s state of health, and the availability of an arrow. As for the locations of the pits and the wumpus: we could treat them as unobserved parts of the state that happen to be immutable—in which case, the transition model for the environment is completely known; or we could say that the transition model itself is unknown because the agent doesn’t know which Forward actions are fatal—in which case, discovering the locations of pits and wumpus completes the agent’s knowledge of the transition model.\"  \n",
    "\n",
    "Cite: Stuart Russel and Peter Norvig. _Artificial Intelligence: A Modern Approach_ (3rd ed). Prentice-Hall. 2010. pp 237-8."
   ]
  },
  {
   "cell_type": "markdown",
   "metadata": {},
   "source": [
    "## Exercise: Play the wumpus world simulator \n",
    "\n",
    "Wumpus World Simulator at [https://thiagodnf.github.io/wumpus-world-simulator/](https://thiagodnf.github.io/wumpus-world-simulator/)"
   ]
  },
  {
   "cell_type": "markdown",
   "metadata": {},
   "source": [
    "display(HTML(https://thiagodnf.github.io/wumpus-world-simulator/))"
   ]
  },
  {
   "cell_type": "markdown",
   "metadata": {},
   "source": [
    "## Reflect\n",
    "\n",
    "* How are we building knowledge about the world?\n",
    "* How far does our knowledge extend?\n",
    "* Does knowledge limit our actions?\n",
    "* How does knowledge affect our choice of actions?"
   ]
  },
  {
   "cell_type": "markdown",
   "metadata": {},
   "source": [
    "## First steps\n",
    "\n",
    "![first steps on wumpus world](images/Figure-S7-3-ww-first-step.png)\n",
    "\n",
    "**Percepts: [Stench, Breeze, Glitter, Bump, Scream]**"
   ]
  },
  {
   "cell_type": "markdown",
   "metadata": {},
   "source": [
    "## Next steps\n",
    "\n",
    "![next steps on wumpus world](images/Figure-S7-4-ww-next-steps.png)\n",
    "\n",
    "**Percepts: [Stench, Breeze, Glitter, Bump, Scream]**"
   ]
  },
  {
   "cell_type": "markdown",
   "metadata": {},
   "source": [
    "## Storing knowledge about the world\n",
    "\n",
    "* Build up knowledge through time as new facts are discovered\n",
    "* Knowledge informs which actions are preferable\n",
    "* Knowledge base is a collection of sentences\n",
    "    + TELL(sentence) --> Adds new sentences to KB\n",
    "    + ASK(sentence) --> Finds existing sentences and "
   ]
  },
  {
   "cell_type": "markdown",
   "metadata": {},
   "source": [
    "## Inference \n",
    "\n",
    "* Back Chaining\n",
    "    - Proves an assertion efficiently\n",
    "    - Results are easy to understand \n",
    "    - Good for explaining how the system arrived at an answer \n",
    "\n",
    "* Forward Chaining\n",
    "    - Starts with facts\n",
    "    - Finds related sentences in the knowledge base\n",
    "    - Explores implications attempting to construct the desired assertion"
   ]
  },
  {
   "cell_type": "markdown",
   "metadata": {},
   "source": [
    "\n",
    "\n",
    "# Break \n",
    "\n",
    "![]()"
   ]
  },
  {
   "cell_type": "markdown",
   "metadata": {
    "slideshow": {
     "slide_type": "slide"
    }
   },
   "source": [
    "# Demonstration"
   ]
  },
  {
   "cell_type": "markdown",
   "metadata": {
    "slideshow": {
     "slide_type": "slide"
    }
   },
   "source": [
    "# Exercise"
   ]
  },
  {
   "cell_type": "markdown",
   "metadata": {
    "slideshow": {
     "slide_type": "notes"
    }
   },
   "source": [
    "_Note: End with humor_"
   ]
  },
  {
   "cell_type": "code",
   "execution_count": null,
   "metadata": {},
   "outputs": [],
   "source": []
  }
 ],
 "metadata": {
  "kernelspec": {
   "display_name": "Python [default]",
   "language": "python",
   "name": "python3"
  },
  "language_info": {
   "codemirror_mode": {
    "name": "ipython",
    "version": 3
   },
   "file_extension": ".py",
   "mimetype": "text/x-python",
   "name": "python",
   "nbconvert_exporter": "python",
   "pygments_lexer": "ipython3",
   "version": "3.6.5"
  }
 },
 "nbformat": 4,
 "nbformat_minor": 2
}
