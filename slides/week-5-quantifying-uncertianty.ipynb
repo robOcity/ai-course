{
 "cells": [
  {
   "cell_type": "code",
   "execution_count": 2,
   "metadata": {},
   "outputs": [],
   "source": [
    "from IPython.display import HTML, Image, YouTubeVideo"
   ]
  },
  {
   "cell_type": "markdown",
   "metadata": {
    "slideshow": {
     "slide_type": "slide"
    }
   },
   "source": [
    "# MSDS688 -- Artifical Intelligence\n",
    "\n",
    "## Week 5 - Logic Agents in Wumpus World\n",
    "\n",
    "![Kircher's hydraulic organ](images/kirchers-hydraulic-organ.png)\n",
    "\n",
    "With the sixteenth-century advent of the pinned cylinder — a barrel with pins or bars sticking out, such as in a music box — even more complex lifelike machines were possible. Around this time, a new word also arose to describe human-like machines in particular: “android”, derived from Greek roots meaning “manlike”. This was the coinage of Gabriel Naudé, French physician and librarian, and personal doctor to none other than the automaton-loving Louis XIII.6\n",
    "\n",
    "Pinned cylinders were the programming devices in automata and automatic organs from around 1600. In 1650, the German polymath Athanasius Kircher offered an early design of a hydraulic organ with automata, governed by a pinned cylinder and including a dancing skeleton.\n",
    "\n",
    "Cite: Riskin, J. (n.d.). Frolicsome Engines: The Long Prehistory of Artificial Intelligence. Retrieved April 10, 2018, from [https://publicdomainreview.org/2016/05/04/frolicsome-engines-the-long-prehistory-of-artificial-intelligence/](https://publicdomainreview.org/2016/05/04/frolicsome-engines-the-long-prehistory-of-artificial-intelligence/)"
   ]
  },
  {
   "cell_type": "markdown",
   "metadata": {
    "slideshow": {
     "slide_type": "slide"
    }
   },
   "source": [
    "# Review - Concepts and techniques"
   ]
  },
  {
   "cell_type": "markdown",
   "metadata": {
    "slideshow": {
     "slide_type": "slide"
    }
   },
   "source": [
    "# Quiz / Exercise"
   ]
  },
  {
   "cell_type": "markdown",
   "metadata": {
    "slideshow": {
     "slide_type": "slide"
    }
   },
   "source": [
    "# Lecture"
   ]
  },
  {
   "cell_type": "markdown",
   "metadata": {
    "slideshow": {
     "slide_type": "notes"
    }
   },
   "source": [
    "_Note: Start with a promise_ "
   ]
  },
  {
   "cell_type": "markdown",
   "metadata": {
    "slideshow": {
     "slide_type": "slide"
    }
   },
   "source": [
    "## Learning Objectives\n",
    "\n",
    "1.  Describe why logic alone is impractical for modeling real-world problems.\n",
    "\n",
    "1. Apply probability theory to develop and simplifiy casuality diagrams.\n",
    "\n",
    "1. Combine truth tables and casuality diagrams to create probalistic belief nets.\n",
    "\n",
    "1. Illustrate how belief nets allow intelligent agents to make better decisions when facing uncertainty."
   ]
  },
  {
   "cell_type": "markdown",
   "metadata": {},
   "source": [
    "## Why Logic Fails"
   ]
  },
  {
   "cell_type": "markdown",
   "metadata": {
    "slideshow": {
     "slide_type": "slide"
    }
   },
   "source": [
    "## Basic Probability Axioms\n",
    "\n",
    "$$\n",
    "\\begin{align}\n",
    "& P(True) = 1 \\quad  P(False) = 0 \\\\\n",
    "& 0 <= P(A) <= 1 \\quad\\text{where A is an event} \\\\\n",
    "& P(A \\cup B) = P(A) + P(B) - P(A \\cap B) \\quad\\text{where A and b are events}\n",
    "\\end{align}\n",
    "$$"
   ]
  },
  {
   "cell_type": "markdown",
   "metadata": {
    "slideshow": {
     "slide_type": "slide"
    }
   },
   "source": [
    "## Basic Probability Axioms\n",
    "\n",
    "* $P(True) = 1 \\quad  P(False) = 0$\n",
    "* $0 <= P(A) <= 1 \\quad\\text{where A is an event}$\n",
    "* $P(A \\cup B) = P(A) + P(B) - P(A \\cap B) \\quad\\text{where A and b are events}$"
   ]
  },
  {
   "cell_type": "markdown",
   "metadata": {
    "slideshow": {
     "slide_type": "notes"
    }
   },
   "source": [
    "Note:  if A and B are **disjoint or mutually exclusive** (no overlap) --> **P(A U B) = P(A) + P(B)**\n",
    "\n",
    "Example: Set of odd and even numbers is disjoint"
   ]
  },
  {
   "cell_type": "markdown",
   "metadata": {},
   "source": [
    "## Conditional Probability\n",
    "\n",
    "$$P(A \\mid B) = \\frac{P(A \\cap B)}{P(B)}$$\n",
    "\n",
    "![Conditional Probability](images/conditional_probability.png)\n",
    "\n",
    "cite: https://www.probabilitycourse.com/chapter1/1_4_0_conditional_probability.php"
   ]
  },
  {
   "cell_type": "markdown",
   "metadata": {},
   "source": [
    "## Chain Rule\n",
    "\n",
    "* $P(A B C) = P(A y) = P(A\\mid y) \\;P(y) \\;\\;\\text let \\;  y\\,=\\,BC$\n",
    "\n",
    "* $ P(A B C) = P(A \\mid B C)\\; P(B C)$\n",
    "\n",
    "* $ P(ABC) = P(A \\mid BC)\\; P(B \\mid C)\\; P(C)$\n",
    "\n",
    "* $P(A_1 A_2 A_3 \\dots A_N) =  P(A_1 \\mid A_2 A_3 \\dots A_{n}) \\; P(A_2 \\mid A_3 \\dots A_{n}) \\; P(A_3 \\mid A_4 \\dots A_{n}) \\dots P(A_n)$"
   ]
  },
  {
   "cell_type": "markdown",
   "metadata": {
    "slideshow": {
     "slide_type": "fragment"
    }
   },
   "source": [
    "## Mutually Exclusive Events - Cannot happen together\n",
    "\n",
    "![Probability of A or B](images/probability-a-or-b.png)\n",
    "\n",
    "cite: https://www.onlinemathlearning.com/mutually-exclusive-events.html"
   ]
  },
  {
   "cell_type": "markdown",
   "metadata": {},
   "source": [
    "## Independent Events\n",
    "\n",
    "\n",
    "* Independent events are unaffected by one another\n",
    "\n",
    "* Independent events can occur together\n",
    "\n",
    "* $P(A \\cap B) = P(A)\\;\\bullet\\;P(B)$\n",
    "\n",
    "* $P(A \\mid B) = P(A) \\;\\; \\text{iff} \\; A \\; \\text{independent from } B$"
   ]
  },
  {
   "cell_type": "markdown",
   "metadata": {
    "slideshow": {
     "slide_type": "notes"
    }
   },
   "source": [
    "## Example of Independence\n",
    "\n",
    "* P(A)=1/3 --> probability it rains tomorrow\n",
    "\n",
    "* P(B)=1/2 --> probability of heads\n",
    "\n",
    "* What is P(A|B)?\n",
    "\n",
    "* P(A|B) = P(A) = 1/3 --> coin toss does not have anything to do with tomorrow's weather\n",
    "\n",
    "cite: https://www.probabilitycourse.com/chapter1/1_4_4_conditional_independence.php"
   ]
  },
  {
   "cell_type": "markdown",
   "metadata": {},
   "source": [
    "## Conditional Independence\n",
    "* $\\text{Given:} \\;\\; P(A \\mid B) = P(A) \\;\\; \\text{iff A and B are independent}$\n",
    "\n",
    "* $\\text{Also:} \\; \\; P(A \\mid B, C) = P(A \\mid C)$"
   ]
  },
  {
   "cell_type": "markdown",
   "metadata": {},
   "source": [
    "## Bayes Theorem\n",
    "\n",
    "* $P(A\\mid B) = \\frac{P(B\\mid A)P(A)}{P(B)}$"
   ]
  },
  {
   "cell_type": "markdown",
   "metadata": {},
   "source": [
    "\n",
    "\n",
    "# Break \n",
    "\n",
    "![]()"
   ]
  },
  {
   "cell_type": "markdown",
   "metadata": {
    "slideshow": {
     "slide_type": "slide"
    }
   },
   "source": [
    "# Demonstration"
   ]
  },
  {
   "cell_type": "markdown",
   "metadata": {
    "slideshow": {
     "slide_type": "slide"
    }
   },
   "source": [
    "# Exercise"
   ]
  },
  {
   "cell_type": "markdown",
   "metadata": {
    "slideshow": {
     "slide_type": "notes"
    }
   },
   "source": [
    "_Note: End with humor_"
   ]
  },
  {
   "cell_type": "code",
   "execution_count": null,
   "metadata": {},
   "outputs": [],
   "source": []
  }
 ],
 "metadata": {
  "kernelspec": {
   "display_name": "Python [default]",
   "language": "python",
   "name": "python3"
  },
  "language_info": {
   "codemirror_mode": {
    "name": "ipython",
    "version": 3
   },
   "file_extension": ".py",
   "mimetype": "text/x-python",
   "name": "python",
   "nbconvert_exporter": "python",
   "pygments_lexer": "ipython3",
   "version": "3.6.6"
  }
 },
 "nbformat": 4,
 "nbformat_minor": 2
}
