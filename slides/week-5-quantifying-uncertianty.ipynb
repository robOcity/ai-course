{
 "cells": [
  {
   "cell_type": "code",
   "execution_count": 2,
   "metadata": {},
   "outputs": [],
   "source": [
    "from IPython.display import HTML, Image, YouTubeVideo"
   ]
  },
  {
   "cell_type": "markdown",
   "metadata": {
    "slideshow": {
     "slide_type": "slide"
    }
   },
   "source": [
    "# MSDS688 -- Artifical Intelligence\n",
    "\n",
    "## Week 5 - Quantifying Uncertainty"
   ]
  },
  {
   "cell_type": "markdown",
   "metadata": {
    "slideshow": {
     "slide_type": "slide"
    }
   },
   "source": [
    "Image('images/kirchers-hydraulic-organ.png')"
   ]
  },
  {
   "cell_type": "markdown",
   "metadata": {
    "slideshow": {
     "slide_type": "slide"
    }
   },
   "source": [
    "With the sixteenth-century advent of the pinned cylinder — a barrel with pins or bars sticking out, such as in a music box — even more complex lifelike machines were possible. Around this time, a new word also arose to describe human-like machines in particular: “android”, derived from Greek roots meaning “manlike”. This was the coinage of Gabriel Naudé, French physician and librarian, and personal doctor to none other than the automaton-loving Louis XIII.6\n",
    "\n",
    "Pinned cylinders were the programming devices in automata and automatic organs from around 1600. In 1650, the German polymath Athanasius Kircher offered an early design of a hydraulic organ with automata, governed by a pinned cylinder and including a dancing skeleton.\n",
    "\n",
    "Cite: Riskin, J. (n.d.). Frolicsome Engines: The Long Prehistory of Artificial Intelligence. Retrieved April 10, 2018, from [https://publicdomainreview.org/2016/05/04/frolicsome-engines-the-long-prehistory-of-artificial-intelligence/](https://publicdomainreview.org/2016/05/04/frolicsome-engines-the-long-prehistory-of-artificial-intelligence/)"
   ]
  },
  {
   "cell_type": "markdown",
   "metadata": {
    "slideshow": {
     "slide_type": "slide"
    }
   },
   "source": [
    "## Review - Algorithms used in solving CSPs\n",
    "\n",
    "* __Depth First Search (DFS)__\n",
    "    * Choose value from domain\n",
    "    * Assure no contradictions\n",
    "    * Assign value\n",
    "    </p>\n",
    "\n",
    "* __DFS + Forward Checking (FC)__\n",
    "    * After assignment eliminate incompatible values from neighbors domains\n",
    "    * Re-instate values when backtracking\n",
    "    </p>\n",
    "\n",
    "* __DFS + FC + Propagation through singleton domains__\n",
    "    * Perform DFS + FC \n",
    "    * If a _new_ singleton results propagate through the singleton's neighbors\n",
    "    * Repeat if any new singletons result, propagate through them too"
   ]
  },
  {
   "cell_type": "markdown",
   "metadata": {
    "slideshow": {
     "slide_type": "slide"
    }
   },
   "source": [
    "## Review - Pre-processing algorithms for CSPs\n",
    "\n",
    "* __AC-3__ \n",
    "    * Start on the node with the smallest domain\n",
    "    * Remove any domain elements from adjacent domains for which there is no solution to the constraint\\\n",
    "    * Repeat this process until all constraints are consistent in both directions"
   ]
  },
  {
   "cell_type": "markdown",
   "metadata": {
    "slideshow": {
     "slide_type": "slide"
    }
   },
   "source": [
    "# Quiz / Exercise"
   ]
  },
  {
   "cell_type": "markdown",
   "metadata": {
    "slideshow": {
     "slide_type": "slide"
    }
   },
   "source": [
    "# Lecture"
   ]
  },
  {
   "cell_type": "markdown",
   "metadata": {
    "slideshow": {
     "slide_type": "notes"
    }
   },
   "source": [
    "_Note: We live in a non-deterministic world, a probabilistic approach is appealing."
   ]
  },
  {
   "cell_type": "markdown",
   "metadata": {
    "slideshow": {
     "slide_type": "slide"
    }
   },
   "source": [
    "## Learning Objectives\n",
    "\n",
    "1. Apply probability theory to develop and simplify causality diagrams.\n",
    "\n",
    "1. Combine truth tables and causality diagrams to create probabilistic belief nets.\n",
    "\n",
    "1. Illustrate how belief nets allow intelligent agents to make better decisions when facing uncertainty."
   ]
  },
  {
   "cell_type": "markdown",
   "metadata": {
    "slideshow": {
     "slide_type": "slide"
    }
   },
   "source": [
    "## Basic Probability Axioms\n",
    "\n",
    "* $P(True) = 1 \\quad  P(False) = 0$\n",
    "* $0 <= P(A) <= 1 \\quad\\text{where A is an event}$\n",
    "* $P(A \\cup B) = P(A) + P(B) - P(A \\cap B) \\quad\\text{where A and b are events}$"
   ]
  },
  {
   "cell_type": "markdown",
   "metadata": {
    "slideshow": {
     "slide_type": "notes"
    }
   },
   "source": [
    "Note:  if A and B are **disjoint or mutually exclusive** (no overlap) --> **P(A U B) = P(A) + P(B)**\n",
    "\n",
    "Example: Set of odd and even numbers is disjoint"
   ]
  },
  {
   "cell_type": "markdown",
   "metadata": {
    "slideshow": {
     "slide_type": "fragment"
    }
   },
   "source": [
    "## Mutually Exclusive Events - Cannot happen together\n",
    "\n",
    "![Probability of A or B](images/probability-a-or-b.png)\n",
    "\n",
    "cite: https://www.onlinemathlearning.com/mutually-exclusive-events.html"
   ]
  },
  {
   "cell_type": "markdown",
   "metadata": {},
   "source": [
    "## Conditional Probability\n",
    "\n",
    "* $P(A \\mid B) = \\frac{P(A \\cap B)}{P(B)}$\n"
   ]
  },
  {
   "cell_type": "markdown",
   "metadata": {},
   "source": [
    "## Chain Rule\n",
    "\n",
    "* $P(A B C) = P(A y) = P(A\\mid y) \\;P(y) \\;\\;\\text let \\;  y\\,=\\,BC$\n",
    "\n",
    "* $ P(A B C) = P(A \\mid B C)\\; P(B C)$\n",
    "\n",
    "* $ P(ABC) = P(A \\mid BC)\\; P(B \\mid C)\\; P(C)$\n",
    "\n",
    "* $P(A_1 A_2 A_3 \\dots A_N) =  P(A_1 \\mid A_2 A_3 \\dots A_{n}) \\; P(A_2 \\mid A_3 \\dots A_{n}) \\; P(A_3 \\mid A_4 \\dots A_{n}) \\dots P(A_n)$"
   ]
  },
  {
   "cell_type": "markdown",
   "metadata": {},
   "source": [
    "## Independent Events\n",
    "\n",
    "\n",
    "* Independent events are unaffected by one another\n",
    "\n",
    "* Independent events can occur together\n",
    "\n",
    "* $P(AB) = P(A)\\;\\bullet\\;P(B)$\n",
    "\n",
    "* $P(A \\mid B) = P(A) \\;\\; \\text{iff} \\; A \\; \\text{independent from } B$"
   ]
  },
  {
   "cell_type": "markdown",
   "metadata": {
    "slideshow": {
     "slide_type": "notes"
    }
   },
   "source": [
    "## Example of Independence\n",
    "\n",
    "* P(A)=1/3 --> probability it rains tomorrow\n",
    "\n",
    "* P(B)=1/2 --> probability of heads\n",
    "\n",
    "* What is P(A|B)?\n",
    "\n",
    "* P(A|B) = P(A) = 1/3 --> coin toss does not have anything to do with tomorrow's weather\n",
    "\n",
    "cite: https://www.probabilitycourse.com/chapter1/1_4_4_conditional_independence.php"
   ]
  },
  {
   "cell_type": "markdown",
   "metadata": {},
   "source": [
    "## Conditional Independence\n",
    "* $\\text{Given:} \\;\\; P(A \\mid B) = P(A) \\;\\; \\text{iff A and B are independent}$\n",
    "\n",
    "* $\\text{Also:} \\; \\; P(A \\mid B, C) = P(A \\mid C)$"
   ]
  },
  {
   "cell_type": "markdown",
   "metadata": {},
   "source": [
    "## Bayes Theorem\n",
    "\n",
    "* $P(A\\mid B) = \\frac{P(B\\mid A)P(A)}{P(B)}$"
   ]
  },
  {
   "cell_type": "markdown",
   "metadata": {},
   "source": [
    "## Joint Probability Table\n",
    "\n",
    "| Burglary | Earthquake | Alarm | MaryCalls | JohnCalls | Count | Probablity |\n",
    "|----------|:----------:|:-----:|:---------:|:---------:|:-----:|-----------:|\n",
    "|     T    |      T     |   T   |     T     |     T     |  c_1  |    p_1     |\n",
    "|   ...    |    ...     |  ...  |    ...    |    ...    |  ...  |    ...     |\n",
    "|     F    |      F     |   F   |     F     |     F     |  c_n  |    p_n     |\n",
    "\n",
    "* How many values does it take to fully specify the probability of each event?"
   ]
  },
  {
   "cell_type": "markdown",
   "metadata": {},
   "source": [
    "## How large is a JPT?\n",
    "\n",
    "* Answer: \n",
    "    - Exact solution: **2^7 - 1 = 127**\n",
    "    - Assuming a boolean T / F domain gives us 2 for the base\n",
    "    - 7 variables gives our exponent\n",
    "    - General solution:     - size_of_domain ^ num_vars - 1\n",
    "    </p>\n",
    "\n",
    "* Why the -1 you ask?  \n",
    "    - Knowing the probabilities must add to 1\n",
    "    - Sum the P(1 ... n-1) values\n",
    "    - Subtract"
   ]
  },
  {
   "cell_type": "markdown",
   "metadata": {},
   "source": [
    "\n",
    "\n",
    "# Break \n",
    "\n",
    "![]()"
   ]
  },
  {
   "cell_type": "markdown",
   "metadata": {
    "slideshow": {
     "slide_type": "slide"
    }
   },
   "source": [
    "# Demonstration"
   ]
  },
  {
   "cell_type": "markdown",
   "metadata": {
    "slideshow": {
     "slide_type": "slide"
    }
   },
   "source": [
    "# Exercise"
   ]
  },
  {
   "cell_type": "markdown",
   "metadata": {
    "slideshow": {
     "slide_type": "notes"
    }
   },
   "source": [
    "_Note: End with humor_"
   ]
  },
  {
   "cell_type": "code",
   "execution_count": null,
   "metadata": {},
   "outputs": [],
   "source": []
  }
 ],
 "metadata": {
  "kernelspec": {
   "display_name": "Python [default]",
   "language": "python",
   "name": "python3"
  },
  "language_info": {
   "codemirror_mode": {
    "name": "ipython",
    "version": 3
   },
   "file_extension": ".py",
   "mimetype": "text/x-python",
   "name": "python",
   "nbconvert_exporter": "python",
   "pygments_lexer": "ipython3",
   "version": "3.6.6"
  }
 },
 "nbformat": 4,
 "nbformat_minor": 2
}
