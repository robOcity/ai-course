{
 "cells": [
  {
   "cell_type": "markdown",
   "metadata": {
    "slideshow": {
     "slide_type": "slide"
    }
   },
   "source": [
    "# MSDS688 - Artifical Intelligence\n",
    "\n",
    "## Week 1 - Introducing AI\n",
    "\n",
    "![Chess playing automoton](../images/Kempelens-alleged chess-playing-automaton.jpg)\n",
    "\n",
    "Kempelen was more famous for another “automaton” that he designed and built in 1769, the chess-playing Turk. This life-sized model was exhibited all over Europe and America by Kempelen himself and then by others until its demise in a fire in 1854; in the course of its long career, reportedly beating both Napoleon and Charles Babbage. Although aspects of its movement — the motion of the arms, head, etc. — were mechanical, it was not, of course, a full automaton. The crucial chess-playing aspect was the work of a succession of skillful and diminutive human chess players concealed in its pedestal, something all but admitted by Kempelen, who said his main achievement had been to create an illusion. People no doubt knew it was a hoax, but they were fascinated anyway, because it dramatized the question of the age: whether a machine could reason, and relatedly, whether the human mind might itself be a kind of machine.\n",
    "\n",
    "Cite: Riskin, J. (n.d.). Frolicsome Engines: The Long Prehistory of Artificial Intelligence. Retrieved April 10, 2018, from [https://publicdomainreview.org/2016/05/04/frolicsome-engines-the-long-prehistory-of-artificial-intelligence/](https://publicdomainreview.org/2016/05/04/frolicsome-engines-the-long-prehistory-of-artificial-intelligence/)"
   ]
  },
  {
   "cell_type": "markdown",
   "metadata": {},
   "source": [
    "<img src=\"../images/Kempelens-alleged chess-playing-automaton.jpg\"/>"
   ]
  },
  {
   "cell_type": "markdown",
   "metadata": {
    "slideshow": {
     "slide_type": "slide"
    }
   },
   "source": [
    "## Introductions"
   ]
  },
  {
   "cell_type": "markdown",
   "metadata": {
    "slideshow": {
     "slide_type": "slide"
    }
   },
   "source": [
    "## Course objectives\n",
    "\n",
    "1. Discuss artificially intelligent systems using intelligent agents as context (Comprehension)\n",
    "\n",
    "1. Apply search algorithms to solve problems (Application)\n",
    "\n",
    "1. Construct knowledge representations using logic (Synthesis)\n",
    "\n",
    "1. Use knowledge to answer questions and draw new conclusions (Application)\n",
    "\n",
    "1. Employ machine learning algorithms in artificially intelligent systems (Application)\n",
    "\n",
    "1. Solve problems (be more specific) with uncertainty information using Bayesian methods (Application)\n",
    "\n",
    "1. Assess the performance of artificially intelligent systems (Evaluation)\n",
    "\n",
    "1. Examine the ethical implications of a artificially intelligent systems (Analysis)"
   ]
  },
  {
   "cell_type": "markdown",
   "metadata": {
    "slideshow": {
     "slide_type": "slide"
    }
   },
   "source": [
    "## Along the way\n",
    "\n",
    "1. We are going to learn some Python\n",
    "\n",
    "1. Have some very interesting discussions\n",
    "\n",
    "1. Always strive to have some **fun**"
   ]
  },
  {
   "cell_type": "markdown",
   "metadata": {
    "slideshow": {
     "slide_type": "notes"
    }
   },
   "source": [
    "## Motivation\n",
    "\n",
    "1. Thinking, perception and actions --> Acting intelligent to acheive goals"
   ]
  },
  {
   "cell_type": "markdown",
   "metadata": {
    "slideshow": {
     "slide_type": "fragment"
    }
   },
   "source": [
    "1. Modeling these behaviors --> Explain the past and predict the future"
   ]
  },
  {
   "cell_type": "markdown",
   "metadata": {
    "slideshow": {
     "slide_type": "fragment"
    }
   },
   "source": [
    "1. Representation knownledge --> Supporting our models"
   ]
  },
  {
   "cell_type": "markdown",
   "metadata": {
    "slideshow": {
     "slide_type": "fragment"
    }
   },
   "source": [
    "1. Constrain solutions --> Act in the time available"
   ]
  },
  {
   "cell_type": "markdown",
   "metadata": {
    "slideshow": {
     "slide_type": "slide"
    }
   },
   "source": [
    " ## Weekly objectives\n",
    " \n",
    "1. Describe how thinking, acting and behaving provide a framework for understanding differing approaches to AI.\n",
    "\n",
    "1. Discuss the elements of a task environment and how they relate to the state space.\n",
    "\n",
    "1. Explain how a rational agent achieves a goal in an environment.\n",
    "\n",
    "1. Contrast simple reflex agents, model-based reflex agents, goal-based agents and utility-based agents.\n",
    "\n",
    "1. Introduce / re-introduce Python 3\n"
   ]
  },
  {
   "cell_type": "markdown",
   "metadata": {
    "slideshow": {
     "slide_type": "slide"
    }
   },
   "source": [
    "## Concetuallizing AI"
   ]
  },
  {
   "cell_type": "code",
   "execution_count": null,
   "metadata": {
    "slideshow": {
     "slide_type": "fragment"
    }
   },
   "outputs": [],
   "source": [
    "* Thinking vs Acting\n"
   ]
  },
  {
   "cell_type": "code",
   "execution_count": null,
   "metadata": {
    "slideshow": {
     "slide_type": "fragment"
    }
   },
   "outputs": [],
   "source": [
    "* Theoretically precise vs Pragmattic -- It walks like a duck ...\n",
    "    - Neats want to see the mathematical proof (science)\n",
    "    - Scruffies / Fuzzies just need a convincing demo (engineering)"
   ]
  },
  {
   "cell_type": "markdown",
   "metadata": {
    "slideshow": {
     "slide_type": "slide"
    }
   },
   "source": [
    "#### Thinking humanly -- Cognitive science\n",
    "* Need to understand how humans think first\n",
    "    - Introspection\n",
    "    - Pyschological experiments\n",
    "    - Observe the brain in action \n",
    "* Cognitive science uses AI models of the brain and psychological experiments to construct testable theories\n",
    "* In other words, testing is difficult"
   ]
  },
  {
   "cell_type": "markdown",
   "metadata": {
    "slideshow": {
     "slide_type": "fragment"
    }
   },
   "source": [
    "#### Acting humanly -- The Turing's Test\n",
    "* Operational definition proposed by Alan Turing in 1950\n",
    "* ![Turing Test](../images/Turing_test_diagram.png)\n",
    "* Can C tell whether A or B is the machine?\n",
    "    - No --> Machine is intelligent, or C is not very discerning\n",
    "    - Yes --> Not so much"
   ]
  },
  {
   "cell_type": "markdown",
   "metadata": {
    "slideshow": {
     "slide_type": "fragment"
    }
   },
   "source": [
    "#### Thinking ractionally -- A reasoned approach\n",
    "* Make Boolean statements about the world / environment\n",
    "* True or false or unprovable\n",
    "* Represent the state of the world by building sets of assertions\n",
    "* Is this the world you live in?"
   ]
  },
  {
   "cell_type": "markdown",
   "metadata": {},
   "source": [
    "#### Acting rationally -- Intelligent agent approach\n",
    "* Acting to achieve a goal\n",
    "* Rationally acting agents could pass the Turing Test\n",
    "* Can deal with uncertianty where reasoning fails\n",
    "* Hypothesis testing is well supported"
   ]
  },
  {
   "cell_type": "markdown",
   "metadata": {
    "slideshow": {
     "slide_type": "slide"
    }
   },
   "source": [
    "## Agents and environments\n",
    "\n",
    "*   Agent\n",
    "    -  *Perceives* its environments through *sensors*\n",
    "    -  *Acts* upon its environment through *actuators*\n",
    "*   Autonomous Car\n",
    "    -   Sensors --> Speed, direction, video, radar, ...\n",
    "    -   Actuator --> Brake, accelerate, steer, ...\n",
    "*   Agent function: Conceptually agents are functions mapping inputs to outputs\n",
    "*   Agent program: Concretely agents can be software and or hardware \n",
    "    "
   ]
  },
  {
   "cell_type": "markdown",
   "metadata": {
    "slideshow": {
     "slide_type": "slide"
    }
   },
   "source": [
    "## Vacuum world\n",
    "![A problem solving agent in vacuum world](../images/simple_problem_solving_agent.jpg)\n",
    "\n",
    "*   Function \n",
    "    - Vacuum(loc=A, clean=false, floor=tile) --> suck\n",
    "    - Vacuum(loc=A, clean=false, floor=carpet) --> suck + brush\n",
    "    - Vacuum(loc=A, clean=true) --> Right\n",
    "    - What action should the robot take if B is clean too?\n",
    "    \n",
    "    "
   ]
  },
  {
   "cell_type": "code",
   "execution_count": 1,
   "metadata": {
    "slideshow": {
     "slide_type": "skip"
    }
   },
   "outputs": [],
   "source": [
    "from IPython.display import HTML"
   ]
  },
  {
   "cell_type": "markdown",
   "metadata": {
    "slideshow": {
     "slide_type": "slide"
    }
   },
   "source": [
    "## Roomba's solution\n",
    "\n",
    "HTML('<iframe width=\"560\" height=\"315\" src=\"https://www.youtube.com/embed/G4ocrevf4ng\" frameborder=\"0\" allow=\"autoplay; encrypted-media\" allowfullscreen></iframe>')\n"
   ]
  },
  {
   "cell_type": "markdown",
   "metadata": {
    "slideshow": {
     "slide_type": "slide"
    }
   },
   "source": [
    "## Performance\n",
    "\n",
    "*  Environments change due to an agent's actions\n",
    "\n",
    "*  Performance is measured by the agent\n",
    "\n",
    "*  Design performance measures for achieve desired outcome, *not* behavior\n",
    "\n"
   ]
  },
  {
   "cell_type": "markdown",
   "metadata": {
    "slideshow": {
     "slide_type": "slide"
    }
   },
   "source": [
    "## Rationality\n",
    "\n",
    "1.  Performance measure defines success\n",
    "2.  Agent's prior knowledge of the environment\n",
    "3.  Actions available to the agent\n",
    "4.  Agent's precept sequence\n",
    "\n",
    "Idea:  Agents attempt to maximize their performance through the actions they take"
   ]
  },
  {
   "cell_type": "markdown",
   "metadata": {
    "slideshow": {
     "slide_type": "slide"
    }
   },
   "source": [
    "## Qualities of a environment / world\n",
    "\n",
    "* Autonomy -- The extent that agents learn from the environment vs pre-programming\n",
    "\n",
    "* Omniscience -- Knowing the answer is advance.  Data leakage  in the context of AI."
   ]
  },
  {
   "cell_type": "markdown",
   "metadata": {
    "slideshow": {
     "slide_type": "slide"
    }
   },
   "source": [
    " ## PEAS \n",
    " \n",
    "![PEAS](../images/Figure S2-1.png)\n",
    " \n",
    " *   **P**erformance measure\n",
    " *   **E**nvironment\n",
    " *   **A**ctuators\n",
    " *   **S**ensors\n",
    " "
   ]
  },
  {
   "cell_type": "markdown",
   "metadata": {
    "slideshow": {
     "slide_type": "slide"
    }
   },
   "source": [
    "## PEAS -- Applies to a self-driving car\n",
    "\n",
    "*   Performance: Safe, legal, comfortable, maximize profits\n",
    "*   Environment: Roads, traffic pedestrians, customers\n",
    "*   Actutors: Steering, accelerate, brakes, signal, horn\n",
    "*   Sensors: Cameras, sonar, speed, direction, motor, ...\n",
    "\n"
   ]
  },
  {
   "cell_type": "markdown",
   "metadata": {
    "slideshow": {
     "slide_type": "slide"
    }
   },
   "source": [
    "## Unanticipate consequences\n",
    "\n",
    "*  Embargo Act 1807 -- Thomas Jefferson embargos all foriegn trade in an attempt to avoid war.  Exports fall by ~80%, smuggling from Canada is rempent, sailors are jobless.  No quarter is given by its intended targets -- Britian and France\n",
    "\n",
    "*  Question:  How can a rider in an autonomous taxi infuence its behavior?  Would you want to be able to?  Why or why not?"
   ]
  },
  {
   "cell_type": "markdown",
   "metadata": {
    "slideshow": {
     "slide_type": "slide"
    }
   },
   "source": [
    "## Qualities of an environment\n",
    "* Deterministic vs Stochastic --> Is the world uncertain?\n",
    "* Episodic vs sequential --> Do previous actions matter?\n",
    "* Static vs dynamic --> Do changes occur while picking action?\n",
    "* Discrete vs continuous --> Finite or infinite possibilites?\n",
    "* "
   ]
  },
  {
   "cell_type": "markdown",
   "metadata": {
    "slideshow": {
     "slide_type": "slide"
    }
   },
   "source": [
    "## Characteristics of Examples Task Environments\n",
    "\n",
    "![Example environments](../images/Figure S2-6.png)"
   ]
  },
  {
   "cell_type": "markdown",
   "metadata": {
    "slideshow": {
     "slide_type": "slide"
    }
   },
   "source": [
    "## Reflex agents\n",
    " * Action selected based on current precept\n",
    " \n",
    " * If car-in-front-is-braking then initiate-braking\n",
    " \n",
    " * A reflex agent in vacuum world\n",
    " \n",
    " ![Reflex agent schematic diagram](../images/Figure S2-9.png)"
   ]
  },
  {
   "cell_type": "markdown",
   "metadata": {},
   "source": [
    "## Model-based reflex agents\n",
    " * Tracks the world it can see  --> Maintain internal state\n",
    " \n",
    " * Cause and effect model of action to next state relationship\n",
    " \n",
    " * Actions available for the current state\n",
    " \n",
    "  ![Model-based agent schematic diagram](../images/Figure S2-11.png)"
   ]
  },
  {
   "cell_type": "markdown",
   "metadata": {},
   "source": [
    "## Utility-based agents\n",
    "\n",
    "* Choose the action to take next that maximizes the expected value of utility function\n",
    "\n",
    " ![Utility-based agent schematic diagram](../images/Figure S2-13.png)"
   ]
  },
  {
   "cell_type": "markdown",
   "metadata": {},
   "source": [
    "## Goal-based agents\n",
    "\n",
    "* Agent takes actions to reach a goal\n",
    "\n",
    "* Search and planning help agents decide what action to take next\n",
    "\n",
    " ![Goal-based agent schematic diagram](../images/Figure S2-14.png)"
   ]
  },
  {
   "cell_type": "markdown",
   "metadata": {
    "slideshow": {
     "slide_type": "slide"
    }
   },
   "source": [
    "# Break\n",
    "\n",
    "![AI](https://imgs.xkcd.com/comics/ai.png )"
   ]
  },
  {
   "cell_type": "markdown",
   "metadata": {
    "slideshow": {
     "slide_type": "slide"
    }
   },
   "source": [
    "## Introduction to python programming\n",
    "\n",
    "#### Tutorials\n",
    "\n",
    "* [LearnPython.org](https://www.learnpython.org/) - An interactive Python 3 tutorial. \n",
    "\n",
    "* [Software Carpentry -- Programming in Python](https://swcarpentry.github.io/python-novice-inflammation/) - Analyze data and learn Python 3 as you do. "
   ]
  },
  {
   "cell_type": "markdown",
   "metadata": {
    "slideshow": {
     "slide_type": "slide"
    }
   },
   "source": [
    "## AI in popular culture"
   ]
  },
  {
   "cell_type": "markdown",
   "metadata": {
    "slideshow": {
     "slide_type": "subslide"
    }
   },
   "source": [
    "#### The good\n",
    "\n",
    "![WALL-E](../images/WALL-Eposter.jpg)\n",
    "    \n",
    "Cite: WALL-E. (2018, March 14). Retrieved March 16, 2018, from [<https://en.wikipedia.org/wiki/WALL-E>](https://en.wikipedia.org/wiki/WALL-E)\n"
   ]
  },
  {
   "cell_type": "markdown",
   "metadata": {
    "slideshow": {
     "slide_type": "subslide"
    }
   },
   "source": [
    "#### The bad\n",
    "\n",
    "![HAL9000](../images/HAL9000_Case.svg.png)\n",
    "    \n",
    "Cite: File:HAL9000 Case.svg. (n.d.). Retrieved March 16, 2018, from [<https://commons.wikimedia.org/wiki/File:HAL9000_Case.svg>](https://commons.wikimedia.org/wiki/File:HAL9000_Case.svg)\n",
    "By Grafiker61 (Own work) [CC BY-SA 4.0] [(https://creativecommons.org/licenses/by-sa/4.0)](https://creativecommons.org/licenses/by-sa/4.0)"
   ]
  },
  {
   "cell_type": "markdown",
   "metadata": {
    "slideshow": {
     "slide_type": "subslide"
    }
   },
   "source": [
    "#### The ugly\n",
    "\n",
    "![Terminator Genisys](../images/terminator.jpg)\n",
    "\n",
    "Cite: Springer, A. (2015, November 20). Terminator Genisys: Time Is Not On My Side. Retrieved March 16, 2018, from [<https://www.slugmag.com/dvd-reviews/terminator-genisys-time-is-not-on-my-side/>](https://www.slugmag.com/dvd-reviews/terminator-genisys-time-is-not-on-my-side/)"
   ]
  }
 ],
 "metadata": {
  "celltoolbar": "Slideshow",
  "kernelspec": {
   "display_name": "Python [default]",
   "language": "python",
   "name": "python3"
  },
  "language_info": {
   "codemirror_mode": {
    "name": "ipython",
    "version": 3
   },
   "file_extension": ".py",
   "mimetype": "text/x-python",
   "name": "python",
   "nbconvert_exporter": "python",
   "pygments_lexer": "ipython3",
   "version": "3.6.4"
  },
  "varInspector": {
   "cols": {
    "lenName": 16,
    "lenType": 16,
    "lenVar": 40
   },
   "kernels_config": {
    "python": {
     "delete_cmd_postfix": "",
     "delete_cmd_prefix": "del ",
     "library": "var_list.py",
     "varRefreshCmd": "print(var_dic_list())"
    },
    "r": {
     "delete_cmd_postfix": ") ",
     "delete_cmd_prefix": "rm(",
     "library": "var_list.r",
     "varRefreshCmd": "cat(var_dic_list()) "
    }
   },
   "types_to_exclude": [
    "module",
    "function",
    "builtin_function_or_method",
    "instance",
    "_Feature"
   ],
   "window_display": false
  }
 },
 "nbformat": 4,
 "nbformat_minor": 2
}
