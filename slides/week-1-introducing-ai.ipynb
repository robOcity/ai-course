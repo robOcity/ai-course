{
 "cells": [
  {
   "cell_type": "markdown",
   "metadata": {
    "slideshow": {
     "slide_type": "slide"
    }
   },
   "source": [
    "# MSDS688 -- Artifical Intelligence\n",
    "\n",
    "### Rob Osterburg"
   ]
  },
  {
   "cell_type": "markdown",
   "metadata": {
    "slideshow": {
     "slide_type": "slide"
    }
   },
   "source": [
    "## Introductions"
   ]
  },
  {
   "cell_type": "markdown",
   "metadata": {
    "slideshow": {
     "slide_type": "slide"
    }
   },
   "source": [
    "## Course objectives\n",
    "\n",
    "1. Discuss artificially intelligent systems using intelligent agents as context (Comprehension)\n",
    "\n",
    "1. Apply search algorithms to solve problems (Application)\n",
    "\n",
    "1. Construct knowledge representations using logic (Synthesis)\n",
    "\n",
    "1. Use knowledge to answer questions and draw new conclusions (Application)\n",
    "\n",
    "1. Employ machine learning algorithms in artificially intelligent systems (Application)\n",
    "\n",
    "1. Solve problems (be more specific) with uncertainty information using Bayesian methods (Application)\n",
    "\n",
    "1. Assess the performance of artificially intelligent systems (Evaluation)\n",
    "\n",
    "1. Examine the ethical implications of a artificially intelligent systems (Analysis)"
   ]
  },
  {
   "cell_type": "markdown",
   "metadata": {
    "slideshow": {
     "slide_type": "slide"
    }
   },
   "source": [
    "## Along the way\n",
    "\n",
    "1. We are going to learn some Python\n",
    "\n",
    "1. Have some very interesting discussions\n",
    "\n",
    "1. Always strive to have some **fun**"
   ]
  },
  {
   "cell_type": "markdown",
   "metadata": {
    "slideshow": {
     "slide_type": "slide"
    }
   },
   "source": [
    "# Week 1 - Introducing AI\n",
    "\n",
    "TODO add photo / video / link related to motivation"
   ]
  },
  {
   "cell_type": "markdown",
   "metadata": {
    "slideshow": {
     "slide_type": "notes"
    }
   },
   "source": [
    "## Motivation\n",
    "\n",
    "    1. Thinking, perception and actions --> Acting intelligent "
   ]
  },
  {
   "cell_type": "markdown",
   "metadata": {
    "slideshow": {
     "slide_type": "slide"
    }
   },
   "source": [
    " ## Weekly objectives\n",
    " \n",
    "    1. Describe how thinking, acting and behaving provide a framework for understanding differing approaches to AI.\n",
    "\n",
    "    2. Discuss the elements of a task environment and how they relate to the state space.\n",
    "\n",
    "    3. Explain how a rational agent achieves a goal in an environment.\n",
    "\n",
    "    4. Contrast simple reflex agents, model-based reflex agents, goal-based agents and utility-based agents.\n",
    "\n",
    "    5. Introduce / re-introduce Python 3\n"
   ]
  },
  {
   "cell_type": "markdown",
   "metadata": {
    "slideshow": {
     "slide_type": "slide"
    }
   },
   "source": [
    "## Concetuallizing AI"
   ]
  },
  {
   "cell_type": "code",
   "execution_count": null,
   "metadata": {
    "slideshow": {
     "slide_type": "fragment"
    }
   },
   "outputs": [],
   "source": [
    "* Thinking vs Acting\n"
   ]
  },
  {
   "cell_type": "code",
   "execution_count": null,
   "metadata": {
    "slideshow": {
     "slide_type": "fragment"
    }
   },
   "outputs": [],
   "source": [
    "* Theoretically precise vs Pragmattic -- It walks like a duck ...\n",
    "    - Neats want to see the mathematical proof (science)\n",
    "    - Scruffies / Fuzzies just need a convincing demo (engineering)"
   ]
  },
  {
   "cell_type": "markdown",
   "metadata": {
    "slideshow": {
     "slide_type": "slide"
    }
   },
   "source": [
    "#### Thinking humanly -- Cognitive science\n",
    "* Need to understand how humans think first\n",
    "    - Introspection\n",
    "    - Pyschological experiments\n",
    "    - Observe the brain in action \n",
    "* Cognitive science uses AI models of the brain and psychological experiments to construct testable theories\n",
    "* In other words, testing is difficult"
   ]
  },
  {
   "cell_type": "markdown",
   "metadata": {
    "slideshow": {
     "slide_type": "fragment"
    }
   },
   "source": [
    "#### Acting humanly -- The Turing's Test\n",
    "* Operational definition proposed by Alan Turing in 1950\n",
    "* ![Turing Test](../../images/Turing_test_diagram.png)\n",
    "* Can C tell whether A or B is the machine?\n",
    "    - No --> Machine is intelligent, or C is not very discerning\n",
    "    - Yes --> Not so much"
   ]
  },
  {
   "cell_type": "markdown",
   "metadata": {
    "slideshow": {
     "slide_type": "fragment"
    }
   },
   "source": [
    "#### Thinking ractionally -- A reasoned approach\n",
    "* Make Boolean statements about the world / environment\n",
    "* True or false or unprovable\n",
    "* Represent the state of the world by building sets of assertions\n",
    "* Is this the world you live in?"
   ]
  },
  {
   "cell_type": "markdown",
   "metadata": {},
   "source": [
    "#### Acting rationally -- Intelligent agent approach\n",
    "* Acting to achieve a goal\n",
    "* Rationally acting agents could pass the Turing Test\n",
    "* Can deal with uncertianty where reasoning fails\n",
    "* Hypothesis testing is well supported"
   ]
  },
  {
   "cell_type": "markdown",
   "metadata": {
    "slideshow": {
     "slide_type": "slide"
    }
   },
   "source": [
    "## Agents and environments\n",
    "\n",
    "*   Agent\n",
    "    -  *Perceives* its environments through *sensors*\n",
    "    -  *Acts* upon its environment through *actuators*\n",
    "*   Autonomous Car\n",
    "    -   Sensors --> Speed, direction, video, radar, ...\n",
    "    -   Actuator --> Brake, accelerate, steer, ...\n",
    "*   Agent function: Conceptually agents are functions mapping inputs to outputs\n",
    "*   Agent program: Concretely agents can be software and or hardware \n",
    "    "
   ]
  },
  {
   "cell_type": "markdown",
   "metadata": {
    "slideshow": {
     "slide_type": "slide"
    }
   },
   "source": [
    "## Vacuum world\n",
    "[TODO add figure]()\n",
    "\n",
    "*   Function \n",
    "    - Vacuum(loc=A, clean=false, floor=tile) --> suck\n",
    "    - Vacuum(loc=A, clean=false, floor=carpet) --> suck + brush\n",
    "    - Vacuum(loc=A, clean=true) --> Right\n",
    "    - What action should the robot take if B is clean too?\n",
    "    \n",
    "    "
   ]
  },
  {
   "cell_type": "markdown",
   "metadata": {
    "slideshow": {
     "slide_type": "slide"
    }
   },
   "source": [
    "## Roomba's solution\n",
    "\n",
    "HTML('<iframe width=\"560\" height=\"315\" src=\"https://www.youtube.com/embed/G4ocrevf4ng\" frameborder=\"0\" allow=\"autoplay; encrypted-media\" allowfullscreen></iframe>')\n"
   ]
  },
  {
   "cell_type": "markdown",
   "metadata": {
    "slideshow": {
     "slide_type": "slide"
    }
   },
   "source": [
    "## Performance\n",
    "\n",
    "*  Environments change due to an agent's actions\n",
    "\n",
    "*  Performance is measured by the agent\n",
    "\n",
    "*  Design performance measures for achieve desired outcome, *not* behavior\n",
    "\n"
   ]
  },
  {
   "cell_type": "markdown",
   "metadata": {
    "slideshow": {
     "slide_type": "slide"
    }
   },
   "source": [
    "## Rationality\n",
    "\n",
    "1.  Performance measure defines success\n",
    "2.  Agent's prior knowledge of the environment\n",
    "3.  Actions available to the agent\n",
    "4.  Agent's precept sequence\n",
    "\n",
    "Idea:  Agents attempt to maximize their performance through the actions they take"
   ]
  },
  {
   "cell_type": "markdown",
   "metadata": {
    "slideshow": {
     "slide_type": "slide"
    }
   },
   "source": [
    "## Qualities of a environment / world\n",
    "\n",
    "* Autonomy -- The extent that agents learn from the environment vs pre-programming\n",
    "\n",
    "* Omniscience -- Knowing the answer is advance.  Data leakage  in the context of AI."
   ]
  },
  {
   "cell_type": "markdown",
   "metadata": {
    "slideshow": {
     "slide_type": "slide"
    }
   },
   "source": [
    " ## PEAS \n",
    " \n",
    " [TODO - Add peas image]\n",
    " \n",
    " *   **P**erformance measure\n",
    " *   **E**nvironment\n",
    " *   **A**ctuators\n",
    " *   **S**ensors\n",
    " "
   ]
  },
  {
   "cell_type": "markdown",
   "metadata": {
    "slideshow": {
     "slide_type": "slide"
    }
   },
   "source": [
    "## PEAS -- Applies to a self-driving car\n",
    "\n",
    "*   Performance: Safe, legal, comfortable, maximize profits\n",
    "*   Environment: Roads, traffic pedestrians, customers\n",
    "*   Actutors: Steering, accelerate, brakes, signal, horn\n",
    "*   Sensors: Cameras, sonar, speed, direction, motor, ...\n",
    "\n"
   ]
  },
  {
   "cell_type": "markdown",
   "metadata": {
    "slideshow": {
     "slide_type": "slide"
    }
   },
   "source": [
    "## Unanticipate consequences\n",
    "\n",
    "*  Embargo Act 1807 -- Thomas Jefferson embargos all foriegn trade in an attempt to avoid war.  Exports fall by ~80%, smuggling from Canada is rempent, sailors are jobless.  No quarter is given by its intended targets -- Britian and France\n",
    "\n",
    "*  Question:  How can a rider in an autonomous taxi infuence its behavior?  Would you want to be able to?  Why or why not?"
   ]
  },
  {
   "cell_type": "markdown",
   "metadata": {
    "slideshow": {
     "slide_type": "slide"
    }
   },
   "source": [
    "## Qualities of an environment\n",
    "* Deterministic vs Stochastic --> Is the world uncertain?\n",
    "* Episodic vs sequential --> Do previous actions matter?\n",
    "* Static vs dynamic --> Do changes occur while picking action?\n",
    "* Discrete vs continuous --> Finite or infinite possibilites?\n",
    "* "
   ]
  },
  {
   "cell_type": "markdown",
   "metadata": {
    "slideshow": {
     "slide_type": "slide"
    }
   },
   "source": [
    "## Examples\n",
    "\n",
    "[TODO insert figure 2.6]()"
   ]
  },
  {
   "cell_type": "markdown",
   "metadata": {
    "slideshow": {
     "slide_type": "slide"
    }
   },
   "source": [
    "## Reflex agents\n",
    " * Action selected based on current precept\n",
    " * if car-in-front-is-braking then initiate-braking\n",
    " * [TODO insert figure 2.8]()"
   ]
  },
  {
   "cell_type": "markdown",
   "metadata": {},
   "source": [
    "## Model-based reflex agents\n",
    " * Tracks the world it can see  --> Maintain internal state\n",
    " * Cause and effect model of action to next state relationship\n",
    " * Actions available for the current state"
   ]
  },
  {
   "cell_type": "markdown",
   "metadata": {},
   "source": [
    "## Utility-based agents\n",
    "* Choose the action to take next that maximizes the expected value of utility function"
   ]
  },
  {
   "cell_type": "markdown",
   "metadata": {},
   "source": [
    "## Goal-based agents\n",
    "* Agent takes actions to reach a goal\n",
    "* Search and planning help agents decide what action to take next\n",
    "* "
   ]
  },
  {
   "cell_type": "markdown",
   "metadata": {
    "slideshow": {
     "slide_type": "slide"
    }
   },
   "source": [
    "## Introduction to python programming\n",
    "\n",
    "#### Tutorials\n",
    "\n",
    "* [LearnPython.org](https://www.learnpython.org/) - An interactive Python 3 tutorial. \n",
    "\n",
    "* [Software Carpentry -- Programming in Python](https://swcarpentry.github.io/python-novice-inflammation/) - Analyze data and learn Python 3 as you do. "
   ]
  },
  {
   "cell_type": "markdown",
   "metadata": {
    "slideshow": {
     "slide_type": "slide"
    }
   },
   "source": [
    "## History of AI"
   ]
  },
  {
   "cell_type": "markdown",
   "metadata": {
    "slideshow": {
     "slide_type": "slide"
    }
   },
   "source": [
    "## AI in popular culture"
   ]
  },
  {
   "cell_type": "markdown",
   "metadata": {
    "slideshow": {
     "slide_type": "subslide"
    }
   },
   "source": [
    "#### The good\n",
    "    1.  ![WALL-E](./WALL-Eposter.jpg)\n",
    "    \n",
    "    2.  Cite: WALL-E. (2018, March 14). Retrieved March 16, 2018, from <https://en.wikipedia.org/wiki/WALL-E>\n"
   ]
  },
  {
   "cell_type": "markdown",
   "metadata": {
    "slideshow": {
     "slide_type": "subslide"
    }
   },
   "source": [
    "#### The bad\n",
    "    1.  ![HAL9000](./HAL9000_Case.svg.png)\n",
    "    \n",
    "    2.  Cite: File:HAL9000 Case.svg. (n.d.). Retrieved March 16, 2018, from <https://commons.wikimedia.org/wiki/File:HAL9000_Case.svg>\n",
    "By Grafiker61 (Own work) [CC BY-SA 4.0] (https://creativecommons.org/licenses/by-sa/4.0)"
   ]
  },
  {
   "cell_type": "markdown",
   "metadata": {
    "slideshow": {
     "slide_type": "subslide"
    }
   },
   "source": [
    "#### The ugly\n",
    "    1.  ![Terminator Genisys](./terminator.jpg)\n",
    "    2.  Cite: Springer, A. (2015, November 20). Terminator Genisys: Time Is Not On My Side. Retrieved March 16, 2018, from <https://www.slugmag.com/dvd-reviews/terminator-genisys-time-is-not-on-my-side/>"
   ]
  },
  {
   "cell_type": "markdown",
   "metadata": {
    "slideshow": {
     "slide_type": "slide"
    }
   },
   "source": [
    "## 10 minute break"
   ]
  },
  {
   "cell_type": "markdown",
   "metadata": {},
   "source": [
    "## Resources\n",
    "\n",
    "[SciPy Lecture Notes](http://www.scipy-lectures.org/index.html) -- Excellent introduction to scientific programming in Python.  \n",
    "\n",
    "[Software Carpentry](https://software-carpentry.org/) -- Excellent introduction to scientific programming topics including Python, R, SQL and more.  "
   ]
  },
  {
   "cell_type": "markdown",
   "metadata": {
    "slideshow": {
     "slide_type": "notes"
    }
   },
   "source": [
    "## Ending - Conclude with something fun\n",
    "\n",
    "    1. TODO"
   ]
  }
 ],
 "metadata": {
  "celltoolbar": "Slideshow",
  "kernelspec": {
   "display_name": "Python 3",
   "language": "python",
   "name": "python3"
  },
  "language_info": {
   "codemirror_mode": {
    "name": "ipython",
    "version": 3
   },
   "file_extension": ".py",
   "mimetype": "text/x-python",
   "name": "python",
   "nbconvert_exporter": "python",
   "pygments_lexer": "ipython3",
   "version": "3.6.4"
  }
 },
 "nbformat": 4,
 "nbformat_minor": 2
}
