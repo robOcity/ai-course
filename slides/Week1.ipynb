{
 "cells": [
  {
   "cell_type": "markdown",
   "metadata": {
    "slideshow": {
     "slide_type": "slide"
    }
   },
   "source": [
    "# MSDS688 -- Artifical Intelligence\n",
    "\n",
    "### Rob Osterburg"
   ]
  },
  {
   "cell_type": "markdown",
   "metadata": {
    "slideshow": {
     "slide_type": "slide"
    }
   },
   "source": [
    "## Introductions"
   ]
  },
  {
   "cell_type": "markdown",
   "metadata": {
    "slideshow": {
     "slide_type": "slide"
    }
   },
   "source": [
    "## Course Objectives"
   ]
  },
  {
   "cell_type": "markdown",
   "metadata": {
    "slideshow": {
     "slide_type": "slide"
    }
   },
   "source": [
    "## History of AI"
   ]
  },
  {
   "cell_type": "markdown",
   "metadata": {
    "slideshow": {
     "slide_type": "slide"
    }
   },
   "source": [
    "## AI in Popular Culture"
   ]
  },
  {
   "cell_type": "markdown",
   "metadata": {
    "slideshow": {
     "slide_type": "subslide"
    }
   },
   "source": [
    "#### The Good\n",
    "    1.  ![WALL-E](./WALL-Eposter.jpg)\n",
    "    \n",
    "    2.  Cite: WALL-E. (2018, March 14). Retrieved March 16, 2018, from <https://en.wikipedia.org/wiki/WALL-E>\n"
   ]
  },
  {
   "cell_type": "markdown",
   "metadata": {
    "slideshow": {
     "slide_type": "subslide"
    }
   },
   "source": [
    "#### The Bad\n",
    "    1.  ![HAL9000](./HAL9000_Case.svg.png)\n",
    "    \n",
    "    2.  Cite: File:HAL9000 Case.svg. (n.d.). Retrieved March 16, 2018, from <https://commons.wikimedia.org/wiki/File:HAL9000_Case.svg>\n",
    "By Grafiker61 (Own work) [CC BY-SA 4.0] (https://creativecommons.org/licenses/by-sa/4.0)"
   ]
  },
  {
   "cell_type": "markdown",
   "metadata": {
    "slideshow": {
     "slide_type": "subslide"
    }
   },
   "source": [
    "#### The Ugly\n",
    "    1.  ![Terminator Genisys](./terminator.jpg)\n",
    "    2.  Cite: Springer, A. (2015, November 20). Terminator Genisys: Time Is Not On My Side. Retrieved March 16, 2018, from <https://www.slugmag.com/dvd-reviews/terminator-genisys-time-is-not-on-my-side/>"
   ]
  },
  {
   "cell_type": "markdown",
   "metadata": {},
   "source": [
    "## 10 Minute Break"
   ]
  },
  {
   "cell_type": "markdown",
   "metadata": {
    "slideshow": {
     "slide_type": "slide"
    }
   },
   "source": [
    "## Objectives for the Week"
   ]
  },
  {
   "cell_type": "markdown",
   "metadata": {},
   "source": [
    "1. Describe how thinking, acting and behaving provide a framework for understanding differing approaches to AI.\n",
    "\n",
    "2. Discuss the elements of a task environment and how they relate to the state space that the agent must navigate.\n",
    "\n",
    "3. Explain how a rational agent achieves a goal in an environment.\n",
    "\n",
    "4. Contrast simple reflex agents, model-based reflex agents, goal-based agents and utility-based agents.\n",
    "\n",
    "5. Introduce / re-introduce Python 3\n"
   ]
  },
  {
   "cell_type": "markdown",
   "metadata": {
    "slideshow": {
     "slide_type": "slide"
    }
   },
   "source": [
    "## Concetuallizing AI"
   ]
  },
  {
   "cell_type": "code",
   "execution_count": null,
   "metadata": {
    "slideshow": {
     "slide_type": "fragment"
    }
   },
   "outputs": [],
   "source": [
    "* Thinking vs Acting\n"
   ]
  },
  {
   "cell_type": "code",
   "execution_count": null,
   "metadata": {
    "slideshow": {
     "slide_type": "fragment"
    }
   },
   "outputs": [],
   "source": [
    "* Theoretically precise vs Pragmattic -- It walks like a duck ...\n",
    "    - Neats want to see the mathematical proof (science)\n",
    "    - Scruffies / Fuzzies just need a convincing demo (engineering)"
   ]
  },
  {
   "cell_type": "markdown",
   "metadata": {
    "slideshow": {
     "slide_type": "slide"
    }
   },
   "source": [
    "#### Thinking Humanly -- Cognitive Science\n",
    "* Need to understand how humans think first\n",
    "    - Introspection\n",
    "    - Pyschological experiments\n",
    "    - Observe the brain in action \n",
    "* Cognitive science uses AI models of the brain and psychological experiments to construct testable theories\n",
    "* In other words, testing is difficult"
   ]
  },
  {
   "cell_type": "markdown",
   "metadata": {
    "slideshow": {
     "slide_type": "fragment"
    }
   },
   "source": [
    "#### Acting Humanly -- Turing's Test Creates the Field\n",
    "* Operational definition proposed by Alan Turing in 1950\n",
    "* ![Turing Test](../../images/Turing_test_diagram.png)\n",
    "* Can C tell whether A or B is the machine?\n",
    "    - No --> Machine is intelligent, or C is not very discerning\n",
    "    - Yes --> Not so much"
   ]
  },
  {
   "cell_type": "markdown",
   "metadata": {
    "slideshow": {
     "slide_type": "fragment"
    }
   },
   "source": [
    "#### Thinking Ractionally -- A Reasoned Approach\n",
    "* Make Boolean statements about the world / environment\n",
    "* True or false or unprovable\n",
    "* Represent the state of the world by building sets of assertions\n",
    "* Is this the world you live in?"
   ]
  },
  {
   "cell_type": "markdown",
   "metadata": {},
   "source": [
    "#### Acting Rationally -- Intelligent Agent Approach\n",
    "* Acting to achieve a goal\n",
    "* Rationally acting agents could pass the Turing Test\n",
    "* Can deal with uncertianty where reasoning fails\n",
    "* Hypothesis testing is well supported"
   ]
  },
  {
   "cell_type": "markdown",
   "metadata": {
    "slideshow": {
     "slide_type": "slide"
    }
   },
   "source": [
    "## Introduction to Python Programming\n",
    "\n",
    "#### Tutorials\n",
    "\n",
    "*  [Software Carpentry -- Programming in Python](https://swcarpentry.github.io/python-novice-inflammation/)\n",
    "\n",
    "*  []()"
   ]
  },
  {
   "cell_type": "markdown",
   "metadata": {},
   "source": [
    "## Resources\n",
    "\n",
    "[SciPy Lecture Notes](http://www.scipy-lectures.org/index.html) -- Excellent introduction to scientific programming in Python.  \n",
    "\n",
    "[Software Carpentry](https://software-carpentry.org/) -- Excellent introduction to scientific programming topics including Python, R, SQL and more.  "
   ]
  }
 ],
 "metadata": {
  "kernelspec": {
   "display_name": "Python 3",
   "language": "python",
   "name": "python3"
  },
  "language_info": {
   "codemirror_mode": {
    "name": "ipython",
    "version": 3
   },
   "file_extension": ".py",
   "mimetype": "text/x-python",
   "name": "python",
   "nbconvert_exporter": "python",
   "pygments_lexer": "ipython3",
   "version": "3.6.4"
  }
 },
 "nbformat": 4,
 "nbformat_minor": 2
}
