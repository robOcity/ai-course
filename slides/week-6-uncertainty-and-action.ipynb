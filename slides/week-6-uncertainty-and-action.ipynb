{
 "cells": [
  {
   "cell_type": "markdown",
   "metadata": {
    "slideshow": {
     "slide_type": "slide"
    }
   },
   "source": [
    "# MSDS688 -- Artifical Intelligence\n",
    "\n",
    "## Week 6 - Acting in an Uncertain World\n",
    "\n",
    "![The original talking heads](../images/the-talking-heads.jpg)\n",
    "\n",
    "Later on in the eighteenth century, engineers and automaton makers became concerned with trying to mechanize two processes deemed the epitome of living intelligence: speech and chess playing. A flurry of talking heads in the 1770s, ’80s and ’90s was triggered by a prize competition sponsored by the St Petersburg Academy of Sciences for a machine that could produce the sound of vowels. People went far beyond just vowels. A Frenchman named Mical designed a pair of talking heads in 1778.\n",
    "\n",
    "They contained “artificial glottises arranged over taut membranes”, but their dialogue in praise of Louis XVI was rather dull: “The King gives Peace to Europe”, intoned the first head; “Peace crowns the King with Glory”, replied the second; and so on.\n",
    "\n",
    "Cite: Riskin, J. (n.d.). Frolicsome Engines: The Long Prehistory of Artificial Intelligence. Retrieved April 10, 2018, from [https://publicdomainreview.org/2016/05/04/frolicsome-engines-the-long-prehistory-of-artificial-intelligence/](https://publicdomainreview.org/2016/05/04/frolicsome-engines-the-long-prehistory-of-artificial-intelligence/)"
   ]
  },
  {
   "cell_type": "markdown",
   "metadata": {
    "slideshow": {
     "slide_type": "slide"
    }
   },
   "source": [
    "# Review - Concepts and techniques"
   ]
  },
  {
   "cell_type": "markdown",
   "metadata": {
    "slideshow": {
     "slide_type": "slide"
    }
   },
   "source": [
    "# Quiz / Exercise"
   ]
  },
  {
   "cell_type": "markdown",
   "metadata": {
    "slideshow": {
     "slide_type": "slide"
    }
   },
   "source": [
    "# Lecture"
   ]
  },
  {
   "cell_type": "markdown",
   "metadata": {
    "slideshow": {
     "slide_type": "notes"
    }
   },
   "source": [
    "_Note: Start with a promise_ "
   ]
  },
  {
   "cell_type": "markdown",
   "metadata": {
    "slideshow": {
     "slide_type": "slide"
    }
   },
   "source": [
    "## Learning Objectives\n",
    "\n",
    "1.  Describe why logic alone is impractical for modeling real-world problems.\n",
    "\n",
    "1. Apply probability theory to develop and simplifiy casuality diagrams.\n",
    "\n",
    "1. Combine truth tables and casuality diagrams to create probalistic belief nets.\n",
    "\n",
    "1. Illustrate how belief nets allow intelligent agents to make better decisions when facing uncertainty."
   ]
  },
  {
   "cell_type": "markdown",
   "metadata": {},
   "source": [
    "## Why Logic Fails"
   ]
  },
  {
   "cell_type": "markdown",
   "metadata": {
    "slideshow": {
     "slide_type": "slide"
    }
   },
   "source": [
    "## Basic Probability Axioms\n",
    "\n",
    "$$\n",
    "\\begin{align}\n",
    "& P(True) = 1 \\quad  P(False) = 0 \\\\\n",
    "& 0 <= P(A) <= 1.0 \\quad\\text{where A is an event} \\\\\n",
    "& P(A \\cup B) = P(A) + P(B) - P(A \\cap B) \\quad\\text{where A and b are events}\n",
    "\\end{align}\n",
    "$$"
   ]
  },
  {
   "cell_type": "markdown",
   "metadata": {
    "slideshow": {
     "slide_type": "notes"
    }
   },
   "source": [
    "Note:  if A and B are **disjoint or mutually exclusive** (no overlap) --> **P(A U B) = P(A) + P(B)**\n",
    "\n",
    "Example: Set of odd and even numbers is disjoint"
   ]
  },
  {
   "cell_type": "markdown",
   "metadata": {
    "slideshow": {
     "slide_type": "fragment"
    }
   },
   "source": [
    "## Mutually Exclusive Events - Cannot happen at the same time\n",
    "\n",
    "![Probability of A or B](../images/probability-a-or-b.png)\n",
    "\n",
    "cite: https://www.onlinemathlearning.com/mutually-exclusive-events.html"
   ]
  },
  {
   "cell_type": "markdown",
   "metadata": {},
   "source": [
    "## Mutually Exclusive vs Indpendent Events\n",
    "\n",
    "* Mutually exclusive events cannot happen at the same time. $P(A \\cap B) = 0$\n",
    "\n",
    "* Indepentent events are unaffected when by other events. $P(A \\cap B) = P(A)\\;\\bullet\\;P(B)$\n",
    "\n",
    "![Indpendent vs mutually exclusive events](../images/mutually-exclusive-vs-independent-event.jpg)\n",
    "\n",
    "cite: https://keydifferences.com/difference-between-mutually-exclusive-and-independent-events.html"
   ]
  },
  {
   "cell_type": "markdown",
   "metadata": {},
   "source": [
    "## Conditional Probability\n",
    "\n",
    "$$P(A \\mid B) = \\frac{P(A \\cap B)}{P(B)}$$\n",
    "\n",
    "![Conditional Probability](../images/conditional_probability.png)\n",
    "\n",
    "cite: https://www.probabilitycourse.com/chapter1/1_4_0_conditional_probability.php"
   ]
  },
  {
   "cell_type": "markdown",
   "metadata": {},
   "source": [
    "## Chain Rule\n",
    "\n",
    "$$P(A_1 \\cup A_2 \\cup A_3 \\dots A_N) =  P(A_1)P(A_2 \\mid A_1)P(A_3 \\mid A_2,A_1) \\dots P(A_n \\mid A_{n-1} A_{n-2} \\dots A_{1})$$"
   ]
  },
  {
   "cell_type": "markdown",
   "metadata": {},
   "source": [
    "## Independence\n",
    "\n",
    "$$\n",
    "\\begin{align}\n",
    "P(A \\mid B) & = P(A) \\\\\n",
    "P(A \\cup B) & = P(A) \\bullet P(B)\n",
    "\\end{align}\n",
    "$$"
   ]
  },
  {
   "cell_type": "markdown",
   "metadata": {
    "slideshow": {
     "slide_type": "notes"
    }
   },
   "source": [
    "P(A)=1/3 --> probability it rains tomorrorow\n",
    "P(B)=1/2 --> probabilty of heads\n",
    "What is P(A|B)?\n",
    "\n",
    "P(A|B) = P(A) = 1/3 --> coin toss does not have anything to do with tomorrow's weather\n",
    "\n",
    "cite: https://www.probabilitycourse.com/chapter1/1_4_4_conditional_independence.php"
   ]
  },
  {
   "cell_type": "markdown",
   "metadata": {},
   "source": [
    "## Conditional Independence\n",
    "$$\n",
    "\\begin{align}\n",
    "Given \\; P(A \\mid B) & = P(A) \\; \\quad\\text{if A and B are independent then } \\\\\n",
    "P(A \\mid B, C) & = P(A \\mid C) \\\\\n",
    "\\end{align}\n",
    "$$"
   ]
  },
  {
   "cell_type": "markdown",
   "metadata": {},
   "source": [
    "## Bayes Theorem\n",
    "\n",
    "$$P(A\\mid B) = \\frac{P(B\\mid A)P(A)}{P(B)}$$"
   ]
  },
  {
   "cell_type": "markdown",
   "metadata": {},
   "source": [
    "## Joint Probability Table\n"
   ]
  },
  {
   "cell_type": "code",
   "execution_count": 1,
   "metadata": {
    "slideshow": {
     "slide_type": "skip"
    }
   },
   "outputs": [],
   "source": [
    "#from graphviz import Digraph\n",
    "!pip list | grep graphviz"
   ]
  },
  {
   "cell_type": "code",
   "execution_count": 2,
   "metadata": {},
   "outputs": [
    {
     "name": "stdout",
     "output_type": "stream",
     "text": [
      "graphviz                  2.40.1               h0a44026_0  \r\n"
     ]
    }
   ],
   "source": [
    "!conda list | grep graphviz"
   ]
  },
  {
   "cell_type": "code",
   "execution_count": 3,
   "metadata": {},
   "outputs": [
    {
     "name": "stdout",
     "output_type": "stream",
     "text": [
      "/Users/rob/anaconda3/bin/python\r\n"
     ]
    }
   ],
   "source": [
    "!which python"
   ]
  },
  {
   "cell_type": "code",
   "execution_count": 4,
   "metadata": {},
   "outputs": [
    {
     "ename": "ModuleNotFoundError",
     "evalue": "No module named 'graphviz'",
     "output_type": "error",
     "traceback": [
      "\u001b[0;31m---------------------------------------------------------------------------\u001b[0m",
      "\u001b[0;31mModuleNotFoundError\u001b[0m                       Traceback (most recent call last)",
      "\u001b[0;32m<ipython-input-4-b94645d457e3>\u001b[0m in \u001b[0;36m<module>\u001b[0;34m()\u001b[0m\n\u001b[0;32m----> 1\u001b[0;31m \u001b[0;32mfrom\u001b[0m \u001b[0mgraphviz\u001b[0m \u001b[0;32mimport\u001b[0m \u001b[0mDigraph\u001b[0m\u001b[0;34m\u001b[0m\u001b[0m\n\u001b[0m",
      "\u001b[0;31mModuleNotFoundError\u001b[0m: No module named 'graphviz'"
     ]
    }
   ],
   "source": [
    "from graphviz import Digraph"
   ]
  },
  {
   "cell_type": "markdown",
   "metadata": {},
   "source": [
    "## Causality Diagram\n",
    "\n"
   ]
  },
  {
   "cell_type": "markdown",
   "metadata": {},
   "source": []
  },
  {
   "cell_type": "markdown",
   "metadata": {},
   "source": []
  },
  {
   "cell_type": "markdown",
   "metadata": {},
   "source": []
  },
  {
   "cell_type": "markdown",
   "metadata": {},
   "source": []
  },
  {
   "cell_type": "markdown",
   "metadata": {
    "slideshow": {
     "slide_type": "slide"
    }
   },
   "source": [
    "# Break \n",
    "\n",
    "![]()"
   ]
  },
  {
   "cell_type": "markdown",
   "metadata": {
    "slideshow": {
     "slide_type": "slide"
    }
   },
   "source": [
    "# Demonstration"
   ]
  },
  {
   "cell_type": "markdown",
   "metadata": {
    "slideshow": {
     "slide_type": "slide"
    }
   },
   "source": [
    "# Exercise"
   ]
  },
  {
   "cell_type": "markdown",
   "metadata": {
    "slideshow": {
     "slide_type": "notes"
    }
   },
   "source": [
    "_Note: End with humor_"
   ]
  },
  {
   "cell_type": "code",
   "execution_count": null,
   "metadata": {},
   "outputs": [],
   "source": []
  }
 ],
 "metadata": {
  "kernelspec": {
   "display_name": "Python [default]",
   "language": "python",
   "name": "python3"
  },
  "language_info": {
   "codemirror_mode": {
    "name": "ipython",
    "version": 3
   },
   "file_extension": ".py",
   "mimetype": "text/x-python",
   "name": "python",
   "nbconvert_exporter": "python",
   "pygments_lexer": "ipython3",
   "version": "3.6.4"
  }
 },
 "nbformat": 4,
 "nbformat_minor": 2
}
