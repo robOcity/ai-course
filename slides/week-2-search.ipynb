{
 "cells": [
  {
   "cell_type": "markdown",
   "metadata": {
    "slideshow": {
     "slide_type": "slide"
    }
   },
   "source": [
    "# MSDS688 - Artifical Intelligence\n",
    "\n",
    "# Week 2 - Searching for Solutions\n",
    "\n",
    "![Pneumatica.jpg](images/Pneumatica.jpg)\n",
    "\n",
    "Illustration from an 1851 English edition of Hero’s Pneumatica, in which he describes machines working on _air, steam or water pressure_.\n",
    "\n",
    "Cite: Riskin, J. (n.d.). Frolicsome Engines: The Long Prehistory of Artificial Intelligence. Retrieved April 10, 2018, from [https://publicdomainreview.org/2016/05/04/frolicsome-engines-the-long-prehistory-of-artificial-intelligence/](https://publicdomainreview.org/2016/05/04/frolicsome-engines-the-long-prehistory-of-artificial-intelligence/)"
   ]
  },
  {
   "cell_type": "markdown",
   "metadata": {
    "slideshow": {
     "slide_type": "slide"
    }
   },
   "source": [
    "# Brief history of AI\n",
    "\n",
    "![AI Timeline](images/ai-history-tomlearning-4-638-1.jpg)\n",
    "\n",
    "Cite: Park, K. E. (2015, June 05). Ai history to-m-learning. Retrieved July 8, 2018, from https://www.slideshare.net/kepark07/ai-history-tomlearning"
   ]
  },
  {
   "cell_type": "markdown",
   "metadata": {
    "slideshow": {
     "slide_type": "slide"
    }
   },
   "source": [
    "## Tonight\n",
    "\n",
    "1. Syllabus\n",
    "2. Short review of last week\n",
    "3. Agent discussion solution\n",
    "4. Quiz\n",
    "5. _Break_ \n",
    "5. Lecture on search and demo\n",
    "6. _Break_\n",
    "7. Python practice and answer session"
   ]
  },
  {
   "cell_type": "markdown",
   "metadata": {
    "slideshow": {
     "slide_type": "slide"
    }
   },
   "source": [
    "## Motivation for the course¶\n",
    "\n",
    "* Thinking, perception and actions --> Acting intelligent to achieve goals\n",
    "\n",
    "* Modeling these behaviors --> Explain the past and predict the future\n",
    "\n",
    "* Representation knowledge --> Supporting our models\n",
    "\n",
    "* Constrain solutions --> Act in the time available\n",
    "\n",
    "* Improve outcomes through learning --> Adapt to changing conditions"
   ]
  },
  {
   "cell_type": "markdown",
   "metadata": {
    "slideshow": {
     "slide_type": "slide"
    }
   },
   "source": [
    "## Review syllabus and resources "
   ]
  },
  {
   "cell_type": "markdown",
   "metadata": {
    "slideshow": {
     "slide_type": "slide"
    }
   },
   "source": [
    "## Review - Concepts and techniques"
   ]
  },
  {
   "cell_type": "markdown",
   "metadata": {
    "slideshow": {
     "slide_type": "slide"
    }
   },
   "source": [
    "## PEAS -- Applied to a self-driving car\n",
    "\n",
    "*   **Performance**: Safe, legal, comfortable, maximize profits\n",
    "*   **Environment**: Roads, traffic pedestrians, customers\n",
    "*   **Actuators**: Steering, accelerate, brakes, signal, horn\n",
    "*   **Sensors**: Cameras, sonar, speed, direction, motor, ..."
   ]
  },
  {
   "cell_type": "markdown",
   "metadata": {
    "slideshow": {
     "slide_type": "slide"
    }
   },
   "source": [
    "## Concept of search space size\n",
    "\n",
    "* Actions cause transitions from one state to the next\n",
    "    - Except when then don't, such as in vacuum world\n",
    "    \n",
    "* Games are related to the number of possible choices available to the player    "
   ]
  },
  {
   "cell_type": "markdown",
   "metadata": {
    "slideshow": {
     "slide_type": "slide"
    }
   },
   "source": [
    "## Consider vacuum world\n",
    "\n",
    "* Environment: 2 Cells that are either clean or dirty\n",
    "\n",
    "* Actors: 1 Vacuum cleaner\n",
    "\n",
    "* Actions: Move left, move right or suck up the dirt\n",
    "\n",
    "* Precepts: Cell is dirty or clean\n",
    "\n",
    "* Goal: Both cells are clean\n",
    "\n",
    "* Performance measure: Fewest action to reach a goal state\n"
   ]
  },
  {
   "cell_type": "code",
   "execution_count": 1,
   "metadata": {
    "slideshow": {
     "slide_type": "slide"
    }
   },
   "outputs": [
    {
     "ename": "NameError",
     "evalue": "name 'Image' is not defined",
     "output_type": "error",
     "traceback": [
      "\u001b[0;31m---------------------------------------------------------------------------\u001b[0m",
      "\u001b[0;31mNameError\u001b[0m                                 Traceback (most recent call last)",
      "\u001b[0;32m<ipython-input-1-7791d744f39e>\u001b[0m in \u001b[0;36m<module>\u001b[0;34m()\u001b[0m\n\u001b[0;32m----> 1\u001b[0;31m \u001b[0mImage\u001b[0m\u001b[0;34m(\u001b[0m\u001b[0;34m'images/simple_problem_solving_agent.jpg'\u001b[0m\u001b[0;34m)\u001b[0m\u001b[0;34m\u001b[0m\u001b[0m\n\u001b[0m",
      "\u001b[0;31mNameError\u001b[0m: name 'Image' is not defined"
     ]
    }
   ],
   "source": [
    "Image('images/simple_problem_solving_agent.jpg')"
   ]
  },
  {
   "cell_type": "markdown",
   "metadata": {
    "slideshow": {
     "slide_type": "slide"
    }
   },
   "source": [
    "## Qualities of an environment\n",
    "\n",
    "* Fully or partially observable --> Is entire state of the world knowable?\n",
    "\n",
    "* Deterministic vs Stochastic --> Is the world uncertain?\n",
    "\n",
    "* Episodic vs sequential --> Do previous actions matter?\n",
    "\n",
    "* Static vs dynamic --> Do changes occur while picking action?\n",
    "\n",
    "* Discrete vs continuous --> Finite or infinite possibilities?\n",
    "\n",
    "* Known vs unknown --> Are the rules known? "
   ]
  },
  {
   "cell_type": "markdown",
   "metadata": {
    "slideshow": {
     "slide_type": "slide"
    }
   },
   "source": [
    "## Types of agents\n",
    "\n",
    "* Reflex: If <precept> then <action> \n",
    "    \n",
    "* Model-based: Picks actions based on current state\n",
    "\n",
    "* Goal-based: Model-based agent with a goal using search or planning to get there\n",
    "\n",
    "* Utility-based: Goal-based agent that selects the best action according a utility function\n",
    "\n",
    "* Learning: Uses learning to improve performance over time and selects actions according to how they have performed in the past."
   ]
  },
  {
   "cell_type": "markdown",
   "metadata": {
    "slideshow": {
     "slide_type": "slide"
    }
   },
   "source": [
    "# Quiz / Exercise"
   ]
  },
  {
   "cell_type": "markdown",
   "metadata": {
    "slideshow": {
     "slide_type": "slide"
    }
   },
   "source": [
    "# Lecture - Learning Objectives\n",
    "\n",
    "1. Construct a model of a search tree, explain the role of nodes and edges, and explain the difference between a graph and tree.\n",
    "    \n",
    "1. Contrast informed and uninformed search algorithms in terms of completeness, optimality, time complexity and space complexity.\n",
    "\n",
    "1. Illustrate how a path through the state space from the initial state to the goal state is a product of actions taken to transition from one state to the next.\n",
    "\n",
    "1. Explain and demonstrate breadth-first search, depth-first search, greedy best-first search and A* search algorithms."
   ]
  },
  {
   "cell_type": "markdown",
   "metadata": {
    "slideshow": {
     "slide_type": "notes"
    }
   },
   "source": [
    "## Tonights promise\n",
    "\n",
    "* Tonight we are going to learn how to find goals and \n",
    "* how to find them efficiently.  \n",
    "* Learn how a simple algorithm and \n",
    "* variations on lists can result in \n",
    "* dramatically different behavior.  "
   ]
  },
  {
   "cell_type": "markdown",
   "metadata": {
    "slideshow": {
     "slide_type": "slide"
    }
   },
   "source": [
    "# Motivation\n",
    "Selecting features, choosing the right model, and hand tuning hyper-parameters is time consuming.  Say you have 5 features and want to choose 3 and you 5 different models to evaluate with 5 hyper-parameters each that require approximately 500 model to evaluate.  Let it run all night? Is there a better way?  This is where search comes into play. [auto-sklearn](https://automl.github.io/auto-sklearn/stable/) uses Bayesian techniques to avoid exhaustively evaluating all possibilities.  That is what search is all about, and today, we will fundamental search algorithms and apply them to find the shortest route between two points.  "
   ]
  },
  {
   "cell_type": "markdown",
   "metadata": {
    "slideshow": {
     "slide_type": "slide"
    }
   },
   "source": [
    "## Search Overview"
   ]
  },
  {
   "cell_type": "markdown",
   "metadata": {
    "slideshow": {
     "slide_type": "fragment"
    }
   },
   "source": [
    "* Problem solving through exploration of the state space "
   ]
  },
  {
   "cell_type": "markdown",
   "metadata": {
    "slideshow": {
     "slide_type": "fragment"
    }
   },
   "source": [
    "* Begin at an initial or starting state"
   ]
  },
  {
   "cell_type": "markdown",
   "metadata": {
    "slideshow": {
     "slide_type": "fragment"
    }
   },
   "source": [
    "* Using navigation problem/route finding as example problems"
   ]
  },
  {
   "cell_type": "markdown",
   "metadata": {
    "slideshow": {
     "slide_type": "fragment"
    }
   },
   "source": [
    "* Agents will help us to find goal states"
   ]
  },
  {
   "cell_type": "markdown",
   "metadata": {
    "slideshow": {
     "slide_type": "fragment"
    }
   },
   "source": [
    "* Power our agents with a common search algorithm"
   ]
  },
  {
   "cell_type": "markdown",
   "metadata": {
    "slideshow": {
     "slide_type": "slide"
    }
   },
   "source": [
    "## But first \n",
    "\n",
    "* How do we define **problem**?\n",
    "* Or even recognize a **solution**?\n",
    "* What **algorithms** can we use?"
   ]
  },
  {
   "cell_type": "markdown",
   "metadata": {
    "slideshow": {
     "slide_type": "slide"
    }
   },
   "source": [
    "# Kinds of search algorithms\n",
    "\n",
    "* **Uninformed search algorithms** \n",
    "    - Have no knowledge other the problem definition\n",
    "    - Start state\n",
    "    - Goal state"
   ]
  },
  {
   "cell_type": "markdown",
   "metadata": {
    "slideshow": {
     "slide_type": "fragment"
    }
   },
   "source": [
    "* **Informed search algorithms** \n",
    "    - Leverage any information\n",
    "            - heuristics - \n",
    "            - path cost"
   ]
  },
  {
   "cell_type": "markdown",
   "metadata": {
    "slideshow": {
     "slide_type": "fragment"
    }
   },
   "source": [
    "    - Find the solution efficiently"
   ]
  },
  {
   "cell_type": "markdown",
   "metadata": {
    "slideshow": {
     "slide_type": "slide"
    }
   },
   "source": [
    "# Uninformed search algorithms\n",
    "\n",
    "1. _Breadth First Search_\n",
    "2. _Depth First Search_\n",
    "3. Depth Limited Search\n",
    "4. Iterative Deepening Search"
   ]
  },
  {
   "cell_type": "markdown",
   "metadata": {
    "slideshow": {
     "slide_type": "slide"
    }
   },
   "source": [
    "# Informed search algorithms\n",
    "\n",
    "1. Best First Search\n",
    "2. _Uniform Cost Search_\n",
    "3. _A* Search_\n",
    "4. Recursive Best First Search"
   ]
  },
  {
   "cell_type": "markdown",
   "metadata": {
    "slideshow": {
     "slide_type": "slide"
    }
   },
   "source": [
    "## Graphs\n",
    "\n",
    "![Graph](images/edges.jpeg)\n",
    "\n",
    "Graphs are used to model connections between people, links to websites, transportation and computer networks.  _In AI, nodes track state of the environment and edges represent the action that caused the transition._  "
   ]
  },
  {
   "cell_type": "markdown",
   "metadata": {
    "slideshow": {
     "slide_type": "slide"
    }
   },
   "source": [
    "### Graphs vs Trees\n",
    "\n",
    "![Graph](images/graph_vs_tree.jpeg)"
   ]
  },
  {
   "cell_type": "markdown",
   "metadata": {
    "slideshow": {
     "slide_type": "slide"
    }
   },
   "source": [
    "A **graph** consists of a set of nodes connected by edges.  G = (V, E).  Edges in simple graphs -- like this -- are undirected.\n",
    "\n",
    "A **tree** is a graph without any cycles.  Its edges here are directed in this example.\n",
    "\n",
    "Cite: [A Gentle Introduction To Graph Theory](https://medium.com/basecs/a-gentle-introduction-to-graph-theory-77969829ead8)"
   ]
  },
  {
   "cell_type": "markdown",
   "metadata": {
    "slideshow": {
     "slide_type": "slide"
    }
   },
   "source": [
    "### Edges \n",
    "\n",
    "![Directed vs Undirected Edges](images/directed_vs_undirected.jpeg)"
   ]
  },
  {
   "cell_type": "markdown",
   "metadata": {
    "slideshow": {
     "slide_type": "fragment"
    }
   },
   "source": [
    "Directed edges form a one-way connection between nodes, undirected are two-way connections. The choice is dictated by the problem your are modeling -- think facebook vs twitter.  \n",
    "\n",
    "Cite: [A Gentle Introduction To Graph Theory](https://medium.com/basecs/a-gentle-introduction-to-graph-theory-77969829ead8)"
   ]
  },
  {
   "cell_type": "markdown",
   "metadata": {
    "slideshow": {
     "slide_type": "slide"
    }
   },
   "source": [
    "### Mathematically\n",
    "\n",
    "![Formal Definition of a Graph](images/graph_def_formal.jpeg)\n",
    "\n",
    "Cite: [A Gentle Introduction To Graph Theory](https://medium.com/basecs/a-gentle-introduction-to-graph-theory-77969829ead8)"
   ]
  },
  {
   "cell_type": "markdown",
   "metadata": {
    "slideshow": {
     "slide_type": "slide"
    }
   },
   "source": [
    "## Exercise -- Work with a partner\n",
    "\n",
    "1. Find V and E for the above graph\n",
    "\n",
    "2. Draw the graph from these set\n",
    "\n",
    "    - Vertices: {1, 2, 3, 4, 5, 6}\n",
    "\n",
    "    - Edges: {(1, 2), (1, 5), (2, 3), (2, 5), (3, 4), (4, 5), (4, 6)}\n"
   ]
  },
  {
   "cell_type": "markdown",
   "metadata": {
    "slideshow": {
     "slide_type": "slide"
    }
   },
   "source": [
    "### Solution\n",
    "\n",
    "![Graph](images/6n-graf.png)\n",
    "\n",
    "V: {1, 2, 3, 4, 5, 6}\n",
    "\n",
    "E: {(1, 2), (1, 5), (2, 3), (2, 5), (3, 4), (4, 5), (4, 6)}\n",
    "\n",
    "Cite: By User:AzaToth - Image:6n-graf.png simlar input data, Public Domain, [https://commons.wikimedia.org/w/index.php?curid=820489](https://commons.wikimedia.org/w/index.php?curid=820489)"
   ]
  },
  {
   "cell_type": "markdown",
   "metadata": {
    "slideshow": {
     "slide_type": "slide"
    }
   },
   "source": [
    "# Break\n",
    "\n",
    "![DFS](images/541-solutions-to-the-seven-bridges-of-konigsberg.png)"
   ]
  },
  {
   "cell_type": "markdown",
   "metadata": {
    "slideshow": {
     "slide_type": "notes"
    }
   },
   "source": [
    "## Paths\n",
    "\n",
    "* Eulerian path visits ever edge\n",
    "* Hamiltonian path visits every vertex once\n",
    "* There is a hamiltonian path but no eulerian path"
   ]
  },
  {
   "cell_type": "markdown",
   "metadata": {
    "slideshow": {
     "slide_type": "slide"
    }
   },
   "source": [
    "# Terms\n",
    "\n",
    "* Goal = one particular state in the search space\n",
    "* Problem = Initial state + Actions + Transition Model + Goal test\n",
    "* Transition model defines the states that result from an action\n",
    "* Path = Initial state to goal state and all state in-between"
   ]
  },
  {
   "cell_type": "markdown",
   "metadata": {
    "slideshow": {
     "slide_type": "slide"
    }
   },
   "source": [
    "# Trees are built from nodes\n",
    "\n",
    "![Node data structure](images/Figure-S3-10.png)\n",
    "\n",
    "Node == Vertice"
   ]
  },
  {
   "cell_type": "markdown",
   "metadata": {
    "slideshow": {
     "slide_type": "slide"
    }
   },
   "source": [
    "# Algorithms\n",
    "\n",
    "* What's the difference between a graph and a tree?"
   ]
  },
  {
   "cell_type": "markdown",
   "metadata": {
    "slideshow": {
     "slide_type": "fragment"
    }
   },
   "source": [
    "* Cycles -- Trees do not have cycles / Graphs can"
   ]
  },
  {
   "cell_type": "markdown",
   "metadata": {
    "slideshow": {
     "slide_type": "fragment"
    }
   },
   "source": [
    "* Tree search algorithms search a graph creating a search tree"
   ]
  },
  {
   "cell_type": "markdown",
   "metadata": {
    "slideshow": {
     "slide_type": "fragment"
    }
   },
   "source": [
    "* Keeping a list of nodes they have visited allow for this"
   ]
  },
  {
   "cell_type": "markdown",
   "metadata": {
    "slideshow": {
     "slide_type": "fragment"
    }
   },
   "source": [
    "* Graph search algorithms are happy to cycle"
   ]
  },
  {
   "cell_type": "markdown",
   "metadata": {
    "slideshow": {
     "slide_type": "fragment"
    }
   },
   "source": [
    "* Infinite path lengths result for that behavior"
   ]
  },
  {
   "cell_type": "markdown",
   "metadata": {
    "slideshow": {
     "slide_type": "slide"
    }
   },
   "source": [
    "# Measures of Perfomance\n",
    "\n",
    "| Measure          |  Definition |\n",
    "|------------------|------------:|\n",
    "| Completeness     | Guaranteed to find an existing solution? |\n",
    "| Optimality       | Does it always find the best solution? |\n",
    "| Time complexity  | How long does it take to find? |\n",
    "| Space complexity | How much memory does it take? |\n"
   ]
  },
  {
   "cell_type": "markdown",
   "metadata": {
    "slideshow": {
     "slide_type": "slide"
    }
   },
   "source": [
    "# Sizing the Search Space\n",
    "* Vertices + Edges --> When the complete solution in known"
   ]
  },
  {
   "cell_type": "markdown",
   "metadata": {
    "slideshow": {
     "slide_type": "fragment"
    }
   },
   "source": [
    "* f(b, d, m)\n",
    "    - b = branching factor (#actions)\n",
    "    - d = depth to the root (#edges to the initial state)\n",
    "    - m = maximum length of any path (can be infinite)\n",
    "    \n",
    "* Search spaces can be infinite\n",
    "    - Recurrent processes\n",
    "    - Example: Markov chain"
   ]
  },
  {
   "cell_type": "markdown",
   "metadata": {
    "slideshow": {
     "slide_type": "slide"
    }
   },
   "source": [
    "# Search Cost\n",
    "\n",
    "* Limits what searches are possible\n",
    "* Time complexity - Causes solution to take to long\n",
    "* Space complexity - Limits search to what fits in memory "
   ]
  },
  {
   "cell_type": "markdown",
   "metadata": {
    "slideshow": {
     "slide_type": "slide"
    }
   },
   "source": [
    "# Exercise"
   ]
  },
  {
   "cell_type": "markdown",
   "metadata": {
    "slideshow": {
     "slide_type": "slide"
    }
   },
   "source": [
    "![Stack vs Queue](images/stack-vs-queue.png)   \n",
    "\n",
    "Image two search algorithms their _only_ is the data structure that they employ.  One uses a queue and the other a stack.  _Do you think they will behave differently at runtime?_"
   ]
  },
  {
   "cell_type": "markdown",
   "metadata": {
    "slideshow": {
     "slide_type": "slide"
    }
   },
   "source": [
    "# Depth First Search vs Breadth Depth Search\n",
    "\n",
    "![BFS vs DFS](images/tree-traversal.gif)\n",
    "\n",
    "\n",
    "Cite: Huang, K. (2015, June 23). Tree Traversal. Retrieved April 13, 2018, from ]https://kevhuang.com/tree-traversal/](https://kevhuang.com/tree-traversal/)"
   ]
  },
  {
   "cell_type": "markdown",
   "metadata": {
    "slideshow": {
     "slide_type": "slide"
    }
   },
   "source": [
    "\n",
    "|Algorithm | Depth| Nodes |Time     |   Memory    |\n",
    "|----------|:----:|:-----:|:-------:|------------:|\n",
    "|   BFS    | 16   | 10^16 | 350 yr  | 10 exabytes |\n",
    "|   DFS    | 16   | 160   | seconds | 155 Kb      |\n",
    "\n",
    "Space complexity:   BFS = O(b^m)   DFS = O(b*m)"
   ]
  },
  {
   "cell_type": "markdown",
   "metadata": {
    "slideshow": {
     "slide_type": "slide"
    }
   },
   "source": [
    "# Graph search algorithm\n",
    "\n",
    "![Graph search algorithm](images/Figure-S3-7-graph-search-alg.png)"
   ]
  },
  {
   "cell_type": "markdown",
   "metadata": {
    "slideshow": {
     "slide_type": "slide"
    }
   },
   "source": [
    "# BFS Example (LIFO)\n",
    "\n",
    "![BFS Algorithm](images/Figure-S3-12.png)"
   ]
  },
  {
   "cell_type": "markdown",
   "metadata": {
    "slideshow": {
     "slide_type": "slide"
    }
   },
   "source": [
    "# DFS Example (FIFO)\n",
    "\n",
    "![DFS Algorithm](images/Figure-S3-16.png)"
   ]
  },
  {
   "cell_type": "markdown",
   "metadata": {
    "slideshow": {
     "slide_type": "slide"
    }
   },
   "source": [
    "# Uniform Cost Search (Priority Queue)\n",
    "\n",
    "__function__ UNIFORM-COST-SEARCH(_problem_) __returns__ a solution, or failure  \n",
    "&emsp;_node_ &larr; a node with STATE = _problem_.INITIAL\\-STATE, PATH\\-COST = 0  \n",
    "&emsp;_frontier_ &larr; a **priority queue**b ordered by PATH\\-COST, with _node_ as the only element  \n",
    "&emsp;_explored_ &larr; an empty set  \n",
    "&emsp;__loop do__  \n",
    "&emsp;&emsp;&emsp;__if__ EMPTY?(_frontier_) __then return__ failure  \n",
    "&emsp;&emsp;&emsp;_node_ &larr; POP(_frontier_) /\\* chooses the lowest\\-cost node in _frontier_ \\*/  \n",
    "&emsp;&emsp;&emsp;__if__ _problem_.GOAL\\-TEST(_node_.STATE) __then return__ SOLUTION(_node_)  \n",
    "&emsp;&emsp;&emsp;add _node_.STATE to _explored_  \n",
    "&emsp;&emsp;&emsp;__for each__ _action_ __in__ _problem_.ACTIONS(_node_.STATE) __do__  \n",
    "&emsp;&emsp;&emsp;&emsp;&emsp;&emsp;_child_ &larr; CHILD\\-NODE(_problem_,_node_,_action_)  \n",
    "&emsp;&emsp;&emsp;&emsp;&emsp;&emsp;__if__ _child_.STATE is not in _explored_ or _frontier_ __then__   \n",
    "&emsp;&emsp;&emsp;&emsp;&emsp;&emsp;&emsp;&emsp;&emsp;_frontier_ &larr; INSERT(_child_,_frontier_)  \n",
    "&emsp;&emsp;&emsp;&emsp;&emsp;&emsp;__else if__ _child_.STATE is in _frontier_ with higher PATH\\-COST __then__  \n",
    "&emsp;&emsp;&emsp;&emsp;&emsp;&emsp;&emsp;&emsp;&emsp;replace that _frontier_ node with _child_  \n",
    "\n",
    "\n",
    "__Note:__  The algorithm is identical to the general graph search algorithm except for the use of a priority queue and the addition of an extra check in case a shorter path to a frontier state is discovered."
   ]
  },
  {
   "cell_type": "markdown",
   "metadata": {
    "slideshow": {
     "slide_type": "slide"
    }
   },
   "source": [
    "# UCS Example\n",
    "\n",
    "![UCS Example](images/Figure-S3-15.png)"
   ]
  },
  {
   "cell_type": "markdown",
   "metadata": {
    "slideshow": {
     "slide_type": "notes"
    }
   },
   "source": [
    "## Solution notes\n",
    "\n",
    "* Problem: Get from Sibiu to Bucharest. \n",
    "* Successors of Sibiu are Rimnicu Vilcea and Fagaras, with costs 80 and 99. \n",
    "* Least-cost node, Rimnicu Vilcea, is expanded\n",
    "* next, adding Pitesti with cost 80 + 97 = 177. \n",
    "* Now least-cost node is Fagaras, so it is expanded\n",
    "* Add Bucharest with cost 99 + 211 = 310. \n",
    "* Now a goal node has been generated,\n",
    "* but uniform-cost search keeps going\n",
    "* Choosing Pitesti for expansion and adding a second path to Bucharest\n",
    "* Now cost to Bucharest is 80 + 97 + 101 = 278 \n",
    "* Algorithm checks to see if this new path is better; it is, so the old one is discarded. \n",
    "* Bucharest, now with g-cost 278 is selected for expansion and the solution is returned."
   ]
  },
  {
   "cell_type": "markdown",
   "metadata": {
    "slideshow": {
     "slide_type": "slide"
    }
   },
   "source": [
    "# Demonstration\n",
    "\n",
    "See aima-python/msds688-w2-search.ipynb"
   ]
  },
  {
   "cell_type": "markdown",
   "metadata": {
    "slideshow": {
     "slide_type": "slide"
    }
   },
   "source": [
    "## Informed searches\n",
    "\n",
    "* Uniform cost search uses cost to goal to find the optimal path\n",
    "* Greedy search uses a heuristic to expand the node with least cost estimate of reaching the goal\n",
    "* A* uses an cost so far plus heuristic estimates of cost to the goal to find a optimal solution"
   ]
  },
  {
   "cell_type": "markdown",
   "metadata": {
    "slideshow": {
     "slide_type": "fragment"
    }
   },
   "source": [
    "* **Just Special cases of best first search all that varies  the cost function**"
   ]
  }
 ],
 "metadata": {
  "celltoolbar": "Slideshow",
  "kernelspec": {
   "display_name": "Python [default]",
   "language": "python",
   "name": "python3"
  },
  "language_info": {
   "codemirror_mode": {
    "name": "ipython",
    "version": 3
   },
   "file_extension": ".py",
   "mimetype": "text/x-python",
   "name": "python",
   "nbconvert_exporter": "python",
   "pygments_lexer": "ipython3",
   "version": "3.6.6"
  },
  "varInspector": {
   "cols": {
    "lenName": 16,
    "lenType": 16,
    "lenVar": 40
   },
   "kernels_config": {
    "python": {
     "delete_cmd_postfix": "",
     "delete_cmd_prefix": "del ",
     "library": "var_list.py",
     "varRefreshCmd": "print(var_dic_list())"
    },
    "r": {
     "delete_cmd_postfix": ") ",
     "delete_cmd_prefix": "rm(",
     "library": "var_list.r",
     "varRefreshCmd": "cat(var_dic_list()) "
    }
   },
   "types_to_exclude": [
    "module",
    "function",
    "builtin_function_or_method",
    "instance",
    "_Feature"
   ],
   "window_display": false
  }
 },
 "nbformat": 4,
 "nbformat_minor": 2
}
