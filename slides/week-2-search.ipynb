{
 "cells": [
  {
   "cell_type": "markdown",
   "metadata": {
    "slideshow": {
     "slide_type": "slide"
    }
   },
   "source": [
    "# MSDS688 - Artifical Intelligence\n",
    "\n",
    "# Week 2 - Searching for Solutions\n",
    "\n",
    "![Pneumatica.jpg](../images/Pneumatica.jpg)\n",
    "\n",
    "Illustration from an 1851 English edition of Hero’s Pneumatica, in which he describes machines working on _air, steam or water pressure_.\n",
    "\n",
    "Cite: Riskin, J. (n.d.). Frolicsome Engines: The Long Prehistory of Artificial Intelligence. Retrieved April 10, 2018, from [https://publicdomainreview.org/2016/05/04/frolicsome-engines-the-long-prehistory-of-artificial-intelligence/](https://publicdomainreview.org/2016/05/04/frolicsome-engines-the-long-prehistory-of-artificial-intelligence/)"
   ]
  },
  {
   "cell_type": "markdown",
   "metadata": {
    "slideshow": {
     "slide_type": "slide"
    }
   },
   "source": [
    "# Review - Concepts and techniques"
   ]
  },
  {
   "cell_type": "markdown",
   "metadata": {
    "slideshow": {
     "slide_type": "slide"
    }
   },
   "source": [
    "# Quiz / Exercise"
   ]
  },
  {
   "cell_type": "markdown",
   "metadata": {
    "slideshow": {
     "slide_type": "notes"
    }
   },
   "source": [
    "_Start with a promise_\n",
    "\n",
    "1. TODO"
   ]
  },
  {
   "cell_type": "markdown",
   "metadata": {
    "slideshow": {
     "slide_type": "slide"
    }
   },
   "source": [
    "# Lecture - Learning Objectives\n",
    "\n",
    "1. Construct a model of a search tree, explain the role of nodes and edges, and explain the difference between a graph and tree.\n",
    "    \n",
    "1. Contrast informed and uninformed search algorithms in terms of completeness, optimality, time complexity and space complexity.\n",
    "\n",
    "1. Illustrate how a path through the state space from the initial state to the goal state is a product of actions taken to transition from one state to the next.\n",
    "\n",
    "1. Explain and demonstrate breadth-first search, depth-first search, greedy best-first search and A* search algorithms."
   ]
  },
  {
   "cell_type": "markdown",
   "metadata": {},
   "source": [
    "## OVERVIEW\n",
    "\n",
    "Here, we learn about a specific kind of problem solving - building goal-based agents that can plan ahead to solve problems. In particular, we examine navigation problem/route finding problem. We must begin by precisely defining **problems** and their **solutions**. We will look at several general-purpose search algorithms.\n",
    "\n",
    "Search algorithms can be classified into two types:\n",
    "\n",
    "* **Uninformed search algorithms**: Search algorithms which explore the search space without having any information about the problem other than its definition.\n",
    "    * Examples:\n",
    "        1. Breadth First Search\n",
    "        2. Depth First Search\n",
    "        3. Depth Limited Search\n",
    "        4. Iterative Deepening Search\n",
    "\n",
    "\n",
    "* **Informed search algorithms**: These type of algorithms leverage any information (heuristics, path cost) on the problem to search through the search space to find the solution efficiently.\n",
    "    * Examples:\n",
    "        1. Best First Search\n",
    "        2. Uniform Cost Search\n",
    "        3. A\\* Search\n",
    "        4. Recursive Best First Search\n",
    "\n",
    "*Don't miss the visualisations of these algorithms solving the route-finding problem defined on Romania map at the end of this notebook.*"
   ]
  },
  {
   "cell_type": "markdown",
   "metadata": {},
   "source": [
    "## Graphs\n",
    "\n",
    "![Graph](./images/edges.jpeg)\n",
    "\n",
    "Graphs are used to model connections between people, links to websites, transportation and computer networks.  _In AI, nodes track state of the environment and edges represent the action that caused the transition._  "
   ]
  },
  {
   "cell_type": "markdown",
   "metadata": {},
   "source": [
    "### Graphs vs Trees\n",
    "\n",
    "![Graph](./images/graph_vs_tree.jpeg)\n",
    "\n",
    "A **graph** consists of a set of nodes connected by edges.  G = (V, E).  Edges in simple graphs -- like this -- are undirected.\n",
    "\n",
    "A **tree** is a graph without any cycles.  Its edges here are directed in this example.\n",
    "\n",
    "Cite: [A Gentle Introduction To Graph Theory](https://medium.com/basecs/a-gentle-introduction-to-graph-theory-77969829ead8)"
   ]
  },
  {
   "cell_type": "markdown",
   "metadata": {},
   "source": [
    "### Edges \n",
    "\n",
    "![Directed vs Undirected Edges](./images/directed_vs_undirected.jpeg)\n",
    "\n",
    "Directed edges form a one-way connection between nodes, undirected are two-way connections. The choice is dictated by the problem your are modeling -- think facebook vs twitter.  \n",
    "\n",
    "Cite: [A Gentle Introduction To Graph Theory](https://medium.com/basecs/a-gentle-introduction-to-graph-theory-77969829ead8)"
   ]
  },
  {
   "cell_type": "markdown",
   "metadata": {},
   "source": [
    "### Mathematically\n",
    "\n",
    "![Formal Definition of a Graph](./images/graph_def_formal.jpeg)\n",
    "\n",
    "Cite: [A Gentle Introduction To Graph Theory](https://medium.com/basecs/a-gentle-introduction-to-graph-theory-77969829ead8)"
   ]
  },
  {
   "cell_type": "markdown",
   "metadata": {},
   "source": [
    "## Exercise -- Work with a partner\n",
    "\n",
    "![Undirected Graph](./images/network_of_friends.jpeg)\n",
    "\n",
    "1. Find V and E for the above graph\n",
    "\n",
    "1. Draw the graph from these set\n",
    "\n",
    "    - Vertices: {1, 2, 3, 4, 5, 6}\n",
    "\n",
    "    - Edges: {(1, 2), (1, 5), (2, 3), (2, 5), (3, 4), (4, 5), (4, 6)}\n"
   ]
  },
  {
   "cell_type": "markdown",
   "metadata": {},
   "source": [
    "### Solution\n",
    "\n",
    "![Graph](./images/6n-graf.png)\n",
    "\n",
    "V: {1, 2, 3, 4, 5, 6}\n",
    "\n",
    "E: {(1, 2), (1, 5), (2, 3), (2, 5), (3, 4), (4, 5), (4, 6)}\n",
    "\n",
    "Cite: By User:AzaToth - Image:6n-graf.png simlar input data, Public Domain, [https://commons.wikimedia.org/w/index.php?curid=820489](https://commons.wikimedia.org/w/index.php?curid=820489)"
   ]
  },
  {
   "cell_type": "markdown",
   "metadata": {},
   "source": [
    "### Vacuum World State Graph Example\n",
    "\n",
    "![simple problem solving agent](images/simple_problem_solving_agent.jpg)"
   ]
  },
  {
   "cell_type": "markdown",
   "metadata": {
    "slideshow": {
     "slide_type": "slide"
    }
   },
   "source": [
    "# Break\n",
    "\n",
    "![DFS](https://imgs.xkcd.com/comics/dfs.png)"
   ]
  },
  {
   "cell_type": "markdown",
   "metadata": {
    "slideshow": {
     "slide_type": "slide"
    }
   },
   "source": [
    "# Demonstration"
   ]
  },
  {
   "cell_type": "markdown",
   "metadata": {
    "slideshow": {
     "slide_type": "slide"
    }
   },
   "source": [
    "# Exercise"
   ]
  },
  {
   "cell_type": "markdown",
   "metadata": {
    "slideshow": {
     "slide_type": "notes"
    }
   },
   "source": [
    "_Note: End with humor_\n",
    "\n",
    "1. TODO"
   ]
  }
 ],
 "metadata": {
  "celltoolbar": "Slideshow",
  "kernelspec": {
   "display_name": "Python 3",
   "language": "python",
   "name": "python3"
  },
  "language_info": {
   "codemirror_mode": {
    "name": "ipython",
    "version": 3
   },
   "file_extension": ".py",
   "mimetype": "text/x-python",
   "name": "python",
   "nbconvert_exporter": "python",
   "pygments_lexer": "ipython3",
   "version": "3.6.4"
  },
  "varInspector": {
   "cols": {
    "lenName": 16,
    "lenType": 16,
    "lenVar": 40
   },
   "kernels_config": {
    "python": {
     "delete_cmd_postfix": "",
     "delete_cmd_prefix": "del ",
     "library": "var_list.py",
     "varRefreshCmd": "print(var_dic_list())"
    },
    "r": {
     "delete_cmd_postfix": ") ",
     "delete_cmd_prefix": "rm(",
     "library": "var_list.r",
     "varRefreshCmd": "cat(var_dic_list()) "
    }
   },
   "types_to_exclude": [
    "module",
    "function",
    "builtin_function_or_method",
    "instance",
    "_Feature"
   ],
   "window_display": false
  }
 },
 "nbformat": 4,
 "nbformat_minor": 2
}
