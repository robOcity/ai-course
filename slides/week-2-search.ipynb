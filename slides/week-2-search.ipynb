{
 "cells": [
  {
   "cell_type": "markdown",
   "metadata": {
    "slideshow": {
     "slide_type": "slide"
    }
   },
   "source": [
    "# MSDS688 - Artifical Intelligence\n",
    "\n",
    "# Week 2 - Searching for Solutions\n",
    "\n",
    "![Pneumatica.jpg](images/Pneumatica.jpg)\n",
    "\n",
    "Illustration from an 1851 English edition of Hero’s Pneumatica, in which he describes machines working on _air, steam or water pressure_.\n",
    "\n",
    "Cite: Riskin, J. (n.d.). Frolicsome Engines: The Long Prehistory of Artificial Intelligence. Retrieved April 10, 2018, from [https://publicdomainreview.org/2016/05/04/frolicsome-engines-the-long-prehistory-of-artificial-intelligence/](https://publicdomainreview.org/2016/05/04/frolicsome-engines-the-long-prehistory-of-artificial-intelligence/)"
   ]
  },
  {
   "cell_type": "markdown",
   "metadata": {
    "slideshow": {
     "slide_type": "slide"
    }
   },
   "source": [
    "# Review - Concepts and techniques"
   ]
  },
  {
   "cell_type": "markdown",
   "metadata": {
    "slideshow": {
     "slide_type": "slide"
    }
   },
   "source": [
    "# Quiz / Exercise"
   ]
  },
  {
   "cell_type": "markdown",
   "metadata": {
    "slideshow": {
     "slide_type": "notes"
    }
   },
   "source": [
    "_Start with a promise_\n",
    "\n",
    "1. TODO"
   ]
  },
  {
   "cell_type": "markdown",
   "metadata": {
    "slideshow": {
     "slide_type": "slide"
    }
   },
   "source": [
    "# Brief history of AI\n",
    "\n",
    "![AI Timeline](images/ai-history-tomlearning-4-638-1.jpg)\n",
    "\n",
    "Cite: Park, K. E. (2015, June 05). Ai history to-m-learning. Retrieved July 8, 2018, from https://www.slideshare.net/kepark07/ai-history-tomlearning"
   ]
  },
  {
   "cell_type": "markdown",
   "metadata": {
    "slideshow": {
     "slide_type": "slide"
    }
   },
   "source": [
    "# Motivatation\n",
    "Selecting features, choosing the right model, hand tuning hyperparameters is time consumming.  Say you have 5 features and want to choose 3 and you 5 different models to evaluate with 5 hyperperameters each that require approximately 500 model to evaluate.  Let it run all night? Is there a better way?  This is where search comes into play. [auto-sklearn](https://automl.github.io/auto-sklearn/stable/) uses Bayesian techniques to avoid exhaustively evaluating all possiblities.  That is what search is all aboout, and today, we will fundimental search algorithms and apply them to find the shortest route between two points.  "
   ]
  },
  {
   "cell_type": "markdown",
   "metadata": {
    "slideshow": {
     "slide_type": "slide"
    }
   },
   "source": [
    "# Lecture - Learning Objectives\n",
    "\n",
    "1. Construct a model of a search tree, explain the role of nodes and edges, and explain the difference between a graph and tree.\n",
    "    \n",
    "1. Contrast informed and uninformed search algorithms in terms of completeness, optimality, time complexity and space complexity.\n",
    "\n",
    "1. Illustrate how a path through the state space from the initial state to the goal state is a product of actions taken to transition from one state to the next.\n",
    "\n",
    "1. Explain and demonstrate breadth-first search, depth-first search, greedy best-first search and A* search algorithms."
   ]
  },
  {
   "cell_type": "markdown",
   "metadata": {},
   "source": [
    "## Search Overview"
   ]
  },
  {
   "cell_type": "markdown",
   "metadata": {
    "slideshow": {
     "slide_type": "fragment"
    }
   },
   "source": [
    "* Problem solving through exploration of the state space "
   ]
  },
  {
   "cell_type": "markdown",
   "metadata": {
    "slideshow": {
     "slide_type": "fragment"
    }
   },
   "source": [
    "* Begin at an initial or starting state"
   ]
  },
  {
   "cell_type": "markdown",
   "metadata": {
    "slideshow": {
     "slide_type": "fragment"
    }
   },
   "source": [
    "* Using navigation problem/route finding as example problems"
   ]
  },
  {
   "cell_type": "markdown",
   "metadata": {
    "slideshow": {
     "slide_type": "fragment"
    }
   },
   "source": [
    "* Agents will help us to find goal states"
   ]
  },
  {
   "cell_type": "markdown",
   "metadata": {
    "slideshow": {
     "slide_type": "fragment"
    }
   },
   "source": [
    "* Power our agents with a common search algorithm"
   ]
  },
  {
   "cell_type": "markdown",
   "metadata": {},
   "source": [
    "## But first \n",
    "\n",
    "* How do we define **problem**?\n",
    "* Or even recognize a **solution**?\n",
    "* What **algorithms** can we use?"
   ]
  },
  {
   "cell_type": "markdown",
   "metadata": {},
   "source": [
    "# Kinds of search algorithms\n",
    "\n",
    "* **Uninformed search algorithms** \n",
    "    - Have no knowledge other the problem definition\n",
    "    - Start state\n",
    "    - Goal state\n",
    "    \n",
    "* **Informed search algorithms** \n",
    "    - Leverage any information\n",
    "            - heuristics - "
   ]
  },
  {
   "cell_type": "markdown",
   "metadata": {},
   "source": [
    "            - path cost\n",
    "    - Find the solution efficiently"
   ]
  },
  {
   "cell_type": "markdown",
   "metadata": {},
   "source": [
    "# Uninformed search algorithms\n",
    "\n",
    "1. Breadth First Search\n",
    "2. Depth First Search\n",
    "3. Depth Limited Search\n",
    "4. Iterative Deepening Search\n",
    "\n",
    "\n",
    "\n",
    "\n",
    "1. Best First Search\n",
    "2. Uniform Cost Search\n",
    "3. A\\* Search\n",
    "4. Recursive Best First Search\n",
    "\n",
    "*Don't miss the visualisations of these algorithms solving the route-finding problem defined on Romania map at the end of this notebook.*"
   ]
  },
  {
   "cell_type": "markdown",
   "metadata": {},
   "source": [
    "## Graphs\n",
    "\n",
    "![Graph](images/edges.jpeg)\n",
    "\n",
    "Graphs are used to model connections between people, links to websites, transportation and computer networks.  _In AI, nodes track state of the environment and edges represent the action that caused the transition._  "
   ]
  },
  {
   "cell_type": "markdown",
   "metadata": {},
   "source": [
    "### Graphs vs Trees\n",
    "\n",
    "![Graph](images/graph_vs_tree.jpeg)\n",
    "\n",
    "A **graph** consists of a set of nodes connected by edges.  G = (V, E).  Edges in simple graphs -- like this -- are undirected.\n",
    "\n",
    "A **tree** is a graph without any cycles.  Its edges here are directed in this example.\n",
    "\n",
    "Cite: [A Gentle Introduction To Graph Theory](https://medium.com/basecs/a-gentle-introduction-to-graph-theory-77969829ead8)"
   ]
  },
  {
   "cell_type": "markdown",
   "metadata": {},
   "source": [
    "### Edges \n",
    "\n",
    "![Directed vs Undirected Edges](images/directed_vs_undirected.jpeg)\n",
    "\n",
    "Directed edges form a one-way connection between nodes, undirected are two-way connections. The choice is dictated by the problem your are modeling -- think facebook vs twitter.  \n",
    "\n",
    "Cite: [A Gentle Introduction To Graph Theory](https://medium.com/basecs/a-gentle-introduction-to-graph-theory-77969829ead8)"
   ]
  },
  {
   "cell_type": "markdown",
   "metadata": {},
   "source": [
    "### Mathematically\n",
    "\n",
    "![Formal Definition of a Graph](images/graph_def_formal.jpeg)\n",
    "\n",
    "Cite: [A Gentle Introduction To Graph Theory](https://medium.com/basecs/a-gentle-introduction-to-graph-theory-77969829ead8)"
   ]
  },
  {
   "cell_type": "markdown",
   "metadata": {},
   "source": [
    "## Exercise -- Work with a partner\n",
    "\n",
    "![Undirected Graph](images/network_of_friends.jpeg)\n",
    "\n",
    "1. Find V and E for the above graph\n",
    "\n",
    "1. Draw the graph from these set\n",
    "\n",
    "    - Vertices: {1, 2, 3, 4, 5, 6}\n",
    "\n",
    "    - Edges: {(1, 2), (1, 5), (2, 3), (2, 5), (3, 4), (4, 5), (4, 6)}\n"
   ]
  },
  {
   "cell_type": "markdown",
   "metadata": {},
   "source": [
    "### Solution\n",
    "\n",
    "![Graph](images/6n-graf.png)\n",
    "\n",
    "V: {1, 2, 3, 4, 5, 6}\n",
    "\n",
    "E: {(1, 2), (1, 5), (2, 3), (2, 5), (3, 4), (4, 5), (4, 6)}\n",
    "\n",
    "Cite: By User:AzaToth - Image:6n-graf.png simlar input data, Public Domain, [https://commons.wikimedia.org/w/index.php?curid=820489](https://commons.wikimedia.org/w/index.php?curid=820489)"
   ]
  },
  {
   "cell_type": "markdown",
   "metadata": {},
   "source": [
    "### Vacuum World State Graph Example\n",
    "\n",
    "![simple problem solving agent](images/simple_problem_solving_agent.jpg)"
   ]
  },
  {
   "cell_type": "markdown",
   "metadata": {
    "slideshow": {
     "slide_type": "slide"
    }
   },
   "source": [
    "# Break\n",
    "\n",
    "![DFS](images/541-solutions-to-the-seven-bridges-of-konigsberg.png)"
   ]
  },
  {
   "cell_type": "markdown",
   "metadata": {
    "slideshow": {
     "slide_type": "slide"
    }
   },
   "source": [
    "# Demonstration\n",
    "\n",
    "1. TODO --> Use aima-python/search.ipynb --> Focus on graph traversal visualizations"
   ]
  },
  {
   "cell_type": "markdown",
   "metadata": {
    "slideshow": {
     "slide_type": "slide"
    }
   },
   "source": [
    "# Terms\n",
    "\n",
    "* Goal = one particular state in the search space\n",
    "* Problem = Initial state + Actions + Transition Model + Goal test\n",
    "* Transition model defines the states that result from an action\n",
    "* Path = Intial state to goal state and all state in-between"
   ]
  },
  {
   "cell_type": "markdown",
   "metadata": {
    "slideshow": {
     "slide_type": "slide"
    }
   },
   "source": [
    "# Trees are built from nodes\n",
    "\n",
    "![Node data structure](images/Figure-S3-10.png)\n",
    "\n",
    "Node == Vertice"
   ]
  },
  {
   "cell_type": "markdown",
   "metadata": {
    "slideshow": {
     "slide_type": "slide"
    }
   },
   "source": [
    "# Algorithms\n",
    "\n",
    "* What's the difference between a graph and a tree?"
   ]
  },
  {
   "cell_type": "markdown",
   "metadata": {
    "slideshow": {
     "slide_type": "fragment"
    }
   },
   "source": [
    "* Cycles -- Trees do not have cycles / Graphs can"
   ]
  },
  {
   "cell_type": "markdown",
   "metadata": {
    "slideshow": {
     "slide_type": "fragment"
    }
   },
   "source": [
    "* Tree search algorithms search a graph creating a search tree"
   ]
  },
  {
   "cell_type": "markdown",
   "metadata": {
    "slideshow": {
     "slide_type": "fragment"
    }
   },
   "source": [
    "* Keeping a list of nodes they have visited allow for this"
   ]
  },
  {
   "cell_type": "markdown",
   "metadata": {
    "slideshow": {
     "slide_type": "fragment"
    }
   },
   "source": [
    "* Graph search algorithms are happy to cycle"
   ]
  },
  {
   "cell_type": "markdown",
   "metadata": {
    "slideshow": {
     "slide_type": "fragment"
    }
   },
   "source": [
    "* Infinite path lengths result for that behavior"
   ]
  },
  {
   "cell_type": "markdown",
   "metadata": {
    "slideshow": {
     "slide_type": "slide"
    }
   },
   "source": [
    "# Measures of Perfomance\n",
    "\n",
    "| Measure          |  Definition |\n",
    "|------------------|------------:|\n",
    "| Completeness     | Guaranteed to find an existing solution? |\n",
    "| Optimality       | Does it always find the best solution? |\n",
    "| Time complexity  | How long does it take to find? |\n",
    "| Space complexity | How much memory does it take? |\n"
   ]
  },
  {
   "cell_type": "markdown",
   "metadata": {
    "slideshow": {
     "slide_type": "slide"
    }
   },
   "source": [
    "# Sizing the Search Space\n",
    "* Vertices + Edges --> When the complete solution in known"
   ]
  },
  {
   "cell_type": "markdown",
   "metadata": {
    "slideshow": {
     "slide_type": "fragment"
    }
   },
   "source": [
    "* f(b, d, m)\n",
    "    - b = branching factor (#actions)\n",
    "    - d = depth to the root (#edges to the initial state)\n",
    "    - m = maximum length of any path (can be infinite)\n",
    "    \n",
    "* TODO example of infinite search space"
   ]
  },
  {
   "cell_type": "markdown",
   "metadata": {
    "slideshow": {
     "slide_type": "slide"
    }
   },
   "source": [
    "# Search Cost\n",
    "\n",
    "* Limits what searches are possible\n",
    "* Time complexity - Causes solution to take to long\n",
    "* Space complexity - Limits search to what fits in memory "
   ]
  },
  {
   "cell_type": "markdown",
   "metadata": {
    "slideshow": {
     "slide_type": "slide"
    }
   },
   "source": [
    "# Exercise"
   ]
  },
  {
   "cell_type": "markdown",
   "metadata": {
    "slideshow": {
     "slide_type": "slide"
    }
   },
   "source": [
    "![Stack vs Queue](images/stack-vs-queue.png)   \n",
    "\n",
    "Image two search algorithms their _only_ is the data structure that they employ.  One uses a queue and the other a stack.  _Do you think they will behave differently at runtime?_"
   ]
  },
  {
   "cell_type": "markdown",
   "metadata": {
    "slideshow": {
     "slide_type": "slide"
    }
   },
   "source": [
    "# Depth First Search vs Breadth Depth Search\n",
    "\n",
    "![BFS vs DFS](images/tree-traversal.gif)\n",
    "\n",
    "\n",
    "Cite: Huang, K. (2015, June 23). Tree Traversal. Retrieved April 13, 2018, from ]https://kevhuang.com/tree-traversal/](https://kevhuang.com/tree-traversal/)"
   ]
  },
  {
   "cell_type": "markdown",
   "metadata": {
    "slideshow": {
     "slide_type": "slide"
    }
   },
   "source": [
    "\n",
    "|Algorithm | Depth| Nodes |Time     |   Memory    |\n",
    "|----------|:----:|:-----:|:-------:|------------:|\n",
    "|   BFS    | 16   | 10^16 | 350 yr  | 10 exabytes |\n",
    "|   DFS    | 16   | 160   | seconds | 155 Kb      |\n",
    "\n",
    "Space complexity:   BFS = O(b^m)   DFS = O(b*m)"
   ]
  },
  {
   "cell_type": "code",
   "execution_count": null,
   "metadata": {
    "slideshow": {
     "slide_type": "slide"
    }
   },
   "outputs": [],
   "source": []
  },
  {
   "cell_type": "markdown",
   "metadata": {
    "slideshow": {
     "slide_type": "slide"
    }
   },
   "source": [
    "# BFS Algorithm\n",
    "\n",
    "__function__ BREADTH-FIRST-SEARCH(_problem_) __returns__ a solution, or failure  \n",
    "&emsp;_node_ &larr; a node with STATE = _problem_.INITIAL\\-STATE, PATH\\-COST = 0    \n",
    "&emsp;__if__ _problem_.GOAL\\-TEST(_node_.STATE) __then return__ SOLUTION(_node_)  \n",
    "&emsp;_frontier_ &larr; a **FIFO queue** with _node_ as the only element  \n",
    "&emsp;_explored_ &larr; an empty set  \n",
    "&emsp;__loop do__  \n",
    "&emsp;&emsp;&emsp;__if__ EMPTY?(_frontier_) __then return__ failure  \n",
    "&emsp;&emsp;&emsp;_node_ &larr; POP(_frontier_) /\\* chooses the shallowest node in _frontier_ \\*/  \n",
    "&emsp;&emsp;&emsp;add _node_.STATE to _explored_  \n",
    "&emsp;&emsp;&emsp;__for each__ _action_ __in__ _problem_.ACTIONS(_node_.STATE) __do__  \n",
    "&emsp;&emsp;&emsp;&emsp;&emsp;&emsp;_child_ &larr; CHILD\\-NODE(_problem_,_node_,_action_)  \n",
    "&emsp;&emsp;&emsp;&emsp;&emsp;&emsp;__if__ _child_.STATE is not in _explored_ or _frontier_ __then__  \n",
    "&emsp;&emsp;&emsp;&emsp;&emsp;&emsp;&emsp;&emsp;&emsp;__if__ _problem_.GOAL\\-TEST(_child_.STATE) __then return__ SOLUTION(_child_)  \n",
    "&emsp;&emsp;&emsp;&emsp;&emsp;&emsp;&emsp;&emsp;&emsp;_frontier_ &larr; INSERT(_child_,_frontier_)  \n"
   ]
  },
  {
   "cell_type": "markdown",
   "metadata": {
    "slideshow": {
     "slide_type": "slide"
    }
   },
   "source": [
    "# BFS Example (LIFO)\n",
    "\n",
    "![BFS Algorithm](images/Figure-S3-12.png)"
   ]
  },
  {
   "cell_type": "markdown",
   "metadata": {
    "slideshow": {
     "slide_type": "slide"
    }
   },
   "source": [
    "# DFS Example (FIFO)\n",
    "\n",
    "![DFS Algorithm](images/Figure-S3-16.png)"
   ]
  },
  {
   "cell_type": "markdown",
   "metadata": {
    "slideshow": {
     "slide_type": "slide"
    }
   },
   "source": [
    "# Uniform Cost Search (Priority Queue)\n",
    "\n",
    "__function__ UNIFORM-COST-SEARCH(_problem_) __returns__ a solution, or failure  \n",
    "&emsp;_node_ &larr; a node with STATE = _problem_.INITIAL\\-STATE, PATH\\-COST = 0  \n",
    "&emsp;_frontier_ &larr; a **priority queue**b ordered by PATH\\-COST, with _node_ as the only element  \n",
    "&emsp;_explored_ &larr; an empty set  \n",
    "&emsp;__loop do__  \n",
    "&emsp;&emsp;&emsp;__if__ EMPTY?(_frontier_) __then return__ failure  \n",
    "&emsp;&emsp;&emsp;_node_ &larr; POP(_frontier_) /\\* chooses the lowest\\-cost node in _frontier_ \\*/  \n",
    "&emsp;&emsp;&emsp;__if__ _problem_.GOAL\\-TEST(_node_.STATE) __then return__ SOLUTION(_node_)  \n",
    "&emsp;&emsp;&emsp;add _node_.STATE to _explored_  \n",
    "&emsp;&emsp;&emsp;__for each__ _action_ __in__ _problem_.ACTIONS(_node_.STATE) __do__  \n",
    "&emsp;&emsp;&emsp;&emsp;&emsp;&emsp;_child_ &larr; CHILD\\-NODE(_problem_,_node_,_action_)  \n",
    "&emsp;&emsp;&emsp;&emsp;&emsp;&emsp;__if__ _child_.STATE is not in _explored_ or _frontier_ __then__   \n",
    "&emsp;&emsp;&emsp;&emsp;&emsp;&emsp;&emsp;&emsp;&emsp;_frontier_ &larr; INSERT(_child_,_frontier_)  \n",
    "&emsp;&emsp;&emsp;&emsp;&emsp;&emsp;__else if__ _child_.STATE is in _frontier_ with higher PATH\\-COST __then__  \n",
    "&emsp;&emsp;&emsp;&emsp;&emsp;&emsp;&emsp;&emsp;&emsp;replace that _frontier_ node with _child_  \n",
    "\n",
    "\n",
    "__Note:__  The algorithm is identical to the general graph search algorithm except for the use of a priority queue and the addition of an extra check in case a shorter path to a frontier state is discovered."
   ]
  },
  {
   "cell_type": "markdown",
   "metadata": {},
   "source": [
    "# UCS Example\n",
    "\n",
    "![UCS Example](images/Figure-S3-15.png)"
   ]
  },
  {
   "cell_type": "markdown",
   "metadata": {
    "slideshow": {
     "slide_type": "notes"
    }
   },
   "source": [
    "_Note: End with humor_\n",
    "\n",
    "1. TODO"
   ]
  }
 ],
 "metadata": {
  "celltoolbar": "Slideshow",
  "kernelspec": {
   "display_name": "Python [default]",
   "language": "python",
   "name": "python3"
  },
  "language_info": {
   "codemirror_mode": {
    "name": "ipython",
    "version": 3
   },
   "file_extension": ".py",
   "mimetype": "text/x-python",
   "name": "python",
   "nbconvert_exporter": "python",
   "pygments_lexer": "ipython3",
   "version": "3.6.5"
  },
  "varInspector": {
   "cols": {
    "lenName": 16,
    "lenType": 16,
    "lenVar": 40
   },
   "kernels_config": {
    "python": {
     "delete_cmd_postfix": "",
     "delete_cmd_prefix": "del ",
     "library": "var_list.py",
     "varRefreshCmd": "print(var_dic_list())"
    },
    "r": {
     "delete_cmd_postfix": ") ",
     "delete_cmd_prefix": "rm(",
     "library": "var_list.r",
     "varRefreshCmd": "cat(var_dic_list()) "
    }
   },
   "types_to_exclude": [
    "module",
    "function",
    "builtin_function_or_method",
    "instance",
    "_Feature"
   ],
   "window_display": false
  }
 },
 "nbformat": 4,
 "nbformat_minor": 2
}
