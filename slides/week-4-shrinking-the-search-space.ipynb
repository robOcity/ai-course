{
 "cells": [
  {
   "cell_type": "markdown",
   "metadata": {
    "slideshow": {
     "slide_type": "slide"
    }
   },
   "source": [
    "# MSDS688 - Artifical Intelligence\n",
    "\n",
    "## Week 4 - Shrinking the Search Space\n",
    "\n",
    "![Medieval hydraulic engineering](images/medieval_hydraulic_engineering.jpg)\n",
    "\n",
    "French King Henri IV hired the Italian engineer Tomaso Francini to build him some waterworks for the royal palace at Saint Germain en Laye. Francini built hydraulic grottoes devoted to the Greek pantheon and their adventures: Mercury played a trumpet and Orpheus his lyre; Perseus freed Andromeda from her dragon. There were automaton blacksmiths, weavers, millers, carpenters, knife-grinders, fishermen, and farriers conducting the obligatory watery attacks on spectators.\n",
    "\n",
    "Cite: Riskin, J. (n.d.). Frolicsome Engines: The Long Prehistory of Artificial Intelligence. Retrieved April 10, 2018, from [https://publicdomainreview.org/2016/05/04/frolicsome-engines-the-long-prehistory-of-artificial-intelligence/](https://publicdomainreview.org/2016/05/04/frolicsome-engines-the-long-prehistory-of-artificial-intelligence/)"
   ]
  },
  {
   "cell_type": "markdown",
   "metadata": {
    "slideshow": {
     "slide_type": "slide"
    }
   },
   "source": [
    "# Review - Concepts and techniques"
   ]
  },
  {
   "cell_type": "markdown",
   "metadata": {
    "slideshow": {
     "slide_type": "slide"
    }
   },
   "source": [
    "# Quiz / Exercise"
   ]
  },
  {
   "cell_type": "markdown",
   "metadata": {
    "slideshow": {
     "slide_type": "notes"
    }
   },
   "source": [
    "* The promise\n",
    "    - As a undergraduate was there that one class that seemed to control your life\n",
    "    - Commute route all messed up?  How will you go? "
   ]
  },
  {
   "cell_type": "markdown",
   "metadata": {},
   "source": [
    "# Tonight\n",
    "---\n",
    "\n",
    "* What are some real world examples of constraint satisfaction problems (CSP)?\n",
    "* How can can we respresent a CSP?\n",
    "* How do we solve as CSP?\n",
    "* What is constraint logic programming anyway?\n",
    "                                                    * Surveying what we have learned\n",
    "* Putting into action8[uanx     \n",
    "..."
   ]
  },
  {
   "cell_type": "markdown",
   "metadata": {
    "slideshow": {
     "slide_type": "slide"
    }
   },
   "source": [
    "# Lecture - Learning Objectives\n",
    "\n",
    "1. Explain what a _constraint satisfaction problem_ (CSP) is.\n",
    "\n",
    "1. Disucss a real world problem that can be described as a CSP.\n",
    "\n",
    "1. Illustrate how backtracking can be used to solve a CSP.\n",
    "\n",
    "1. Contrast differenct approaches used to solve CSPs such as backtracking and local search.\n",
    "\n",
    "1. Show how the 8-queens problem can be solved using backtracking.\n",
    "\n",
    "1. Relate the complexity of solving a CSP with the graph of its constraints. \n"
   ]
  },
  {
   "cell_type": "markdown",
   "metadata": {},
   "source": [
    "# Knowledge representation - Say HELLO to factored representations\n",
    "\n",
    "![state representations](images/Figure-S2-16-state-representations.png)\n",
    "\n",
    "* Atomic representations is what we have used in our study of search\n",
    "\n",
    "* Factored representation \n",
    "    \n",
    "    - Splits up each state into a fixed set of variables or attributes, each of which can have a value\n",
    "\n",
    "    - Commonly used in machine learning tasks"
   ]
  },
  {
   "cell_type": "markdown",
   "metadata": {},
   "source": [
    "# Constraint satisfacation problems\n",
    "\n",
    "* Goal: Optimize the use of a resource completing as many jobs a possible\n",
    "\n",
    "* Lots of applicaitons"
   ]
  },
  {
   "cell_type": "markdown",
   "metadata": {},
   "source": [
    "# Map coloring\n",
    "\n",
    "* Coloring a map so that no adjacent polygons are the same color\n",
    "* Graph theory \n",
    "    - The chromatic number of a planar graph is no greater than 4\n",
    "    - A planar graph has no crossing edges\n",
    "\n",
    "![coloring polygons on a map](images/usa-states-map.png)\n",
    "\n",
    "Cite: http://www.conceptdraw.com/How-To-Guide/geo-map-america-united-states"
   ]
  },
  {
   "cell_type": "markdown",
   "metadata": {},
   "source": [
    "# More formally\n",
    "\n",
    "* CSP\n",
    "    - Variables:   Q, NSW, V, T, SA, NT, WA\n",
    "    - Domains:     {Green, Yellow, Purple}\n",
    "    - Constraints: No adjacent territory can be the same color\n",
    "    \n",
    "    \n",
    "* How many colors does it take to color a map of Australia?\n",
    "\n",
    "![map coloring is an application of graph theory](images/Figure-S6-1-graph-coloring.png)\n"
   ]
  },
  {
   "cell_type": "markdown",
   "metadata": {},
   "source": [
    "# Types of constraints\n",
    "\n",
    "* Global constraints - \n",
    "\n",
    "* Resource constraints - One telescope can only look as one place\n",
    "\n",
    "* \n",
    "\n"
   ]
  },
  {
   "cell_type": "code",
   "execution_count": null,
   "metadata": {},
   "outputs": [],
   "source": [
    "# Solving CSPs"
   ]
  },
  {
   "cell_type": "markdown",
   "metadata": {
    "slideshow": {
     "slide_type": "slide"
    }
   },
   "source": [
    "# Break \n",
    "\n",
    "![Wisdom of the Ancients](https://imgs.xkcd.com/comics/constraints.png )"
   ]
  },
  {
   "cell_type": "markdown",
   "metadata": {
    "slideshow": {
     "slide_type": "slide"
    }
   },
   "source": [
    "# Demonstration"
   ]
  },
  {
   "cell_type": "markdown",
   "metadata": {
    "slideshow": {
     "slide_type": "slide"
    }
   },
   "source": [
    "# Exercise"
   ]
  },
  {
   "cell_type": "markdown",
   "metadata": {
    "slideshow": {
     "slide_type": "notes"
    }
   },
   "source": [
    "_Note: End with humor_"
   ]
  },
  {
   "cell_type": "code",
   "execution_count": null,
   "metadata": {},
   "outputs": [],
   "source": []
  }
 ],
 "metadata": {
  "kernelspec": {
   "display_name": "Python [default]",
   "language": "python",
   "name": "python3"
  },
  "language_info": {
   "codemirror_mode": {
    "name": "ipython",
    "version": 3
   },
   "file_extension": ".py",
   "mimetype": "text/x-python",
   "name": "python",
   "nbconvert_exporter": "python",
   "pygments_lexer": "ipython3",
   "version": "3.6.6"
  }
 },
 "nbformat": 4,
 "nbformat_minor": 2
}
