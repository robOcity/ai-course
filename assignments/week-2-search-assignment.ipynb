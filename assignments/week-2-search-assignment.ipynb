{
 "cells": [
  {
   "cell_type": "markdown",
   "metadata": {},
   "source": [
    "# Assignment: Week 2 - Goal search"
   ]
  },
  {
   "cell_type": "markdown",
   "metadata": {},
   "source": [
    "## Getting Git\n",
    "Throughout this course we will make use of the [aima-python project on Github](https://github.com/aimacode/aima-python).  This is an active opensource development effort with many contributors including atleast one of the text authors. \n",
    "\n",
    "To get the code you will need to get a copy of it.  This is commonly referred to as \"cloning\" a repository and you can find directions how to do it [here](https://help.github.com/articles/cloning-a-repository/).  Git is what is called version control software and is used to power the web-site GitHub.  You can interact with GitHub simply through your web browser, or by using client software.  I recommend sooner but the choice is up to you.  If you are using Linux or macOS, then you probably already have Git installed.  Enter `which git` at the command line, you will either see a path or `command not found`.  These lists of clients will provide you plenty of options to choose from:\n",
    "\n",
    "* [Command-line clients](https://git-scm.com/book/en/v2/Getting-Started-Installing-Git)\n",
    "* [GUI clients](https://git-scm.com/downloads/guis)\n",
    "\n",
    "**If you are new to Git -- that is awesome -- you will learn some Git basics that will help prepare you for working as a data scientist.  You do not need to know Git or anything but a novice user in this course.**   "
   ]
  },
  {
   "cell_type": "markdown",
   "metadata": {},
   "source": [
    "## Cloing the repo\n",
    "To get a copy of all the code in the repository, you need to `clone` it.  This simply means \"copy it\" and allows you to interact with others in the development of open source software.  The aima-python repository can be found at [github.com/aimacode/aima-python](https://github.com/aimacode/aima-python).  To clone simply enter `git clone https://github.com/aimacode/aima-python` from the command line.  Git will create a `aima-python` folder in whatever directory you ran the command from.  If you are using a GUI, find clone and provide it with `https://github.com/aimacode/aima-python`.   Once the command runs you should have the code downloaded.  Don't worry, you can delete this folder and repeat the process again and again.  "
   ]
  },
  {
   "cell_type": "markdown",
   "metadata": {},
   "source": [
    "## Preparing to work on this assignment\n",
    "\n",
    "To complete this assignment here are the steps you will need to complete: \n",
    "\n",
    "1. Download and copy this assignment into your repository\n",
    "\n",
    "2. Start Jupyter from above it and navigate into it (pretty much your only option in Windows)\n",
    "\n",
    "3. Start Jupyter in that directory "
   ]
  },
  {
   "cell_type": "markdown",
   "metadata": {},
   "source": [
    "## Import the needed packages"
   ]
  },
  {
   "cell_type": "code",
   "execution_count": null,
   "metadata": {},
   "outputs": [],
   "source": []
  },
  {
   "cell_type": "code",
   "execution_count": 6,
   "metadata": {},
   "outputs": [
    {
     "name": "stdout",
     "output_type": "stream",
     "text": [
      "/Users/rob/Documents/GitHub/aima-python\n"
     ]
    }
   ],
   "source": [
    "%cd '../../aima-python'"
   ]
  },
  {
   "cell_type": "code",
   "execution_count": 7,
   "metadata": {},
   "outputs": [
    {
     "data": {
      "text/plain": [
       "'/Users/rob/Documents/GitHub/aima-python'"
      ]
     },
     "execution_count": 7,
     "metadata": {},
     "output_type": "execute_result"
    }
   ],
   "source": [
    "%pwd"
   ]
  },
  {
   "cell_type": "code",
   "execution_count": 1,
   "metadata": {},
   "outputs": [
    {
     "ename": "ModuleNotFoundError",
     "evalue": "No module named 'search'",
     "output_type": "error",
     "traceback": [
      "\u001b[0;31m---------------------------------------------------------------------------\u001b[0m",
      "\u001b[0;31mModuleNotFoundError\u001b[0m                       Traceback (most recent call last)",
      "\u001b[0;32m<ipython-input-1-7311f3b84709>\u001b[0m in \u001b[0;36m<module>\u001b[0;34m()\u001b[0m\n\u001b[0;32m----> 1\u001b[0;31m \u001b[0;32mfrom\u001b[0m \u001b[0msearch\u001b[0m \u001b[0;32mimport\u001b[0m \u001b[0;34m*\u001b[0m\u001b[0;34m\u001b[0m\u001b[0m\n\u001b[0m\u001b[1;32m      2\u001b[0m \u001b[0;32mfrom\u001b[0m \u001b[0mnotebook\u001b[0m \u001b[0;32mimport\u001b[0m \u001b[0mpsource\u001b[0m\u001b[0;34m,\u001b[0m \u001b[0mheatmap\u001b[0m\u001b[0;34m,\u001b[0m \u001b[0mgaussian_kernel\u001b[0m\u001b[0;34m,\u001b[0m \u001b[0mshow_map\u001b[0m\u001b[0;34m,\u001b[0m \u001b[0mfinal_path_colors\u001b[0m\u001b[0;34m,\u001b[0m \u001b[0mdisplay_visual\u001b[0m\u001b[0;34m,\u001b[0m \u001b[0mplot_NQueens\u001b[0m\u001b[0;34m\u001b[0m\u001b[0m\n\u001b[1;32m      3\u001b[0m \u001b[0;34m\u001b[0m\u001b[0m\n\u001b[1;32m      4\u001b[0m \u001b[0mget_ipython\u001b[0m\u001b[0;34m(\u001b[0m\u001b[0;34m)\u001b[0m\u001b[0;34m.\u001b[0m\u001b[0mrun_line_magic\u001b[0m\u001b[0;34m(\u001b[0m\u001b[0;34m'matplotlib'\u001b[0m\u001b[0;34m,\u001b[0m \u001b[0;34m'inline'\u001b[0m\u001b[0;34m)\u001b[0m\u001b[0;34m\u001b[0m\u001b[0m\n\u001b[1;32m      5\u001b[0m \u001b[0;32mimport\u001b[0m \u001b[0mnetworkx\u001b[0m \u001b[0;32mas\u001b[0m \u001b[0mnx\u001b[0m\u001b[0;34m\u001b[0m\u001b[0m\n",
      "\u001b[0;31mModuleNotFoundError\u001b[0m: No module named 'search'"
     ]
    }
   ],
   "source": [
    "from search import *\n",
    "from notebook import psource, heatmap, gaussian_kernel, show_map, final_path_colors, display_visual, plot_NQueens\n",
    "\n",
    "%matplotlib inline\n",
    "import networkx as nx\n",
    "import matplotlib.pyplot as plt\n",
    "from matplotlib import lines\n",
    "\n",
    "from ipywidgets import interact\n",
    "import ipywidgets as widgets\n",
    "from IPython.display import display\n",
    "import time\n",
    "# Needed to hide warnings in the matplotlib sections\n",
    "import warnings\n",
    "warnings.filterwarnings(\"ignore\")"
   ]
  },
  {
   "cell_type": "markdown",
   "metadata": {},
   "source": [
    "## Define the problem class"
   ]
  },
  {
   "cell_type": "code",
   "execution_count": 2,
   "metadata": {},
   "outputs": [],
   "source": [
    "GOAL = 'HELLO WORLD'\n",
    "\n",
    "class RouteFinder(SearchProblem):\n",
    "    \n",
    "    def actions(self, state)\n",
    "        raise NotImplementedError\n",
    "        \n",
    "    def result(self, state, action):\n",
    "        raise NotImplementedError\n",
    "        \n",
    "    def is_goal(state):\n",
    "        raise NotImplementedError\n",
    "        \n",
    "        \n",
    "class HelloProblem(SearchProblem):\n",
    "    def actions(self, state):\n",
    "        if len(state) < len(GOAL):\n",
    "            return list(' ABCDEFGHIJKLMNOPQRSTUVWXYZ')\n",
    "        else:\n",
    "            return []\n",
    "\n",
    "    def result(self, state, action):\n",
    "        return state + action\n",
    "\n",
    "    def is_goal(self, state):\n",
    "        return state == GOAL\n",
    "    \n",
    "    def cost(self, state, action, state2):\n",
    "        # cost of each action taken\n",
    "        return 1\n",
    "    \n",
    "    def heuristic(self, state):\n",
    "        # Astar needs an estimate of the minumim distance to the goal?\n",
    "        wrong = sum([1 if state[i] != GOAL[i] else 0\n",
    "                    for i in range(len(state))])\n",
    "        missing = len(GOAL) - len(state)\n",
    "        return wrong + missing"
   ]
  },
  {
   "cell_type": "markdown",
   "metadata": {},
   "source": [
    "## Create an instance of it"
   ]
  },
  {
   "cell_type": "code",
   "execution_count": 3,
   "metadata": {},
   "outputs": [],
   "source": [
    "my_problem = HelloProblem(initial_state='')"
   ]
  },
  {
   "cell_type": "markdown",
   "metadata": {},
   "source": [
    "## Solve the problem\n",
    "Including a viewer is handy to see how the algorithm goes about solving the problem.  For large search spaces this can take a very long time, so small examples and or efficeint algorithms are recommended. "
   ]
  },
  {
   "cell_type": "code",
   "execution_count": 4,
   "metadata": {},
   "outputs": [],
   "source": [
    "from simpleai.search.viewers import WebViewer"
   ]
  },
  {
   "cell_type": "code",
   "execution_count": null,
   "metadata": {},
   "outputs": [
    {
     "name": "stderr",
     "output_type": "stream",
     "text": [
      " * Running on http://0.0.0.0:8000/ (Press CTRL+C to quit)\n"
     ]
    },
    {
     "name": "stdout",
     "output_type": "stream",
     "text": [
      "Starting the WebViewer, access it from your web browser, navigating to the address:\n",
      "http://localhost:8000\n",
      "To stop the WebViewer, use the \"Stop running\" link (on the viewer site, from the browser)\n"
     ]
    },
    {
     "name": "stderr",
     "output_type": "stream",
     "text": [
      "127.0.0.1 - - [19/May/2018 16:10:08] \"GET / HTTP/1.1\" 200 -\n",
      "127.0.0.1 - - [19/May/2018 16:10:08] \"GET /static/angular.min.js HTTP/1.1\" 304 -\n",
      "127.0.0.1 - - [19/May/2018 16:10:08] \"GET /static/jquery-2.0.2.min.js HTTP/1.1\" 304 -\n",
      "127.0.0.1 - - [19/May/2018 16:10:08] \"GET /static/EventSource.js HTTP/1.1\" 304 -\n",
      "127.0.0.1 - - [19/May/2018 16:10:08] \"GET /static/jquery.panzoom.min.js HTTP/1.1\" 304 -\n",
      "127.0.0.1 - - [19/May/2018 16:10:08] \"GET /static/main.js HTTP/1.1\" 304 -\n",
      "127.0.0.1 - - [19/May/2018 16:10:08] \"GET /static/styles.css HTTP/1.1\" 304 -\n",
      "127.0.0.1 - - [19/May/2018 16:10:08] \"GET /graph HTTP/1.1\" 200 -\n",
      "127.0.0.1 - - [19/May/2018 16:10:08] \"GET /event_stream HTTP/1.1\" 200 -\n",
      "127.0.0.1 - - [19/May/2018 16:10:08] \"GET /graph?unique=1526767808921 HTTP/1.1\" 200 -\n",
      "127.0.0.1 - - [19/May/2018 16:10:39] \"GET /control/step HTTP/1.1\" 200 -\n",
      "127.0.0.1 - - [19/May/2018 16:10:39] \"GET /graph?unique=1526767839880 HTTP/1.1\" 200 -\n",
      "127.0.0.1 - - [19/May/2018 16:10:43] \"GET /control/step HTTP/1.1\" 200 -\n",
      "127.0.0.1 - - [19/May/2018 16:10:44] \"GET /graph?unique=1526767844381 HTTP/1.1\" 200 -\n",
      "127.0.0.1 - - [19/May/2018 16:10:54] \"GET /control/step HTTP/1.1\" 200 -\n",
      "127.0.0.1 - - [19/May/2018 16:10:55] \"GET /graph?unique=1526767855443 HTTP/1.1\" 200 -\n"
     ]
    }
   ],
   "source": [
    "result = astar(my_problem, viewer=WebViewer())"
   ]
  },
  {
   "cell_type": "markdown",
   "metadata": {},
   "source": [
    "## What to expect\n",
    "\n",
    "```\n",
    "Running on http://0.0.0.0:8000/ (Press CTRL+C to quit)`\n",
    "\n",
    "Starting the WebViewer, access it from your web browser, navigating to the address:\n",
    "http://localhost:8000\n",
    "To stop the WebViewer, use the \"Stop running\" link (on the viewer site, from the browser)\n",
    "\n",
    "127.0.0.1 - - [19/May/2018 15:42:21] \"GET / HTTP/1.1\" 200 -\n",
    "...\n",
    "```"
   ]
  },
  {
   "cell_type": "markdown",
   "metadata": {},
   "source": [
    "## Visualizing the search\n",
    "\n",
    "Open the `http://0.0.0.0:8000` page in your browser to see the visualization.  Then, get an understanding of the visualation by reading through brief documentation.  Next, start driving the web application forward using the menu in the upper left corner.  "
   ]
  },
  {
   "cell_type": "code",
   "execution_count": null,
   "metadata": {},
   "outputs": [],
   "source": []
  }
 ],
 "metadata": {
  "kernelspec": {
   "display_name": "Python [default]",
   "language": "python",
   "name": "python3"
  },
  "language_info": {
   "codemirror_mode": {
    "name": "ipython",
    "version": 3
   },
   "file_extension": ".py",
   "mimetype": "text/x-python",
   "name": "python",
   "nbconvert_exporter": "python",
   "pygments_lexer": "ipython3",
   "version": "3.6.5"
  }
 },
 "nbformat": 4,
 "nbformat_minor": 2
}
