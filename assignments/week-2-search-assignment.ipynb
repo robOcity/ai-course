{
 "cells": [
  {
   "cell_type": "markdown",
   "metadata": {},
   "source": [
    "# Assignment: Week 2 - Goal search"
   ]
  },
  {
   "cell_type": "markdown",
   "metadata": {},
   "source": [
    "## Getting Git\n",
    "Throughout this course we will make use of the [aima-python project on Github](https://github.com/aimacode/aima-python).  This is an active opensource development effort with many contributors including atleast one of the text authors. \n",
    "\n",
    "To get the code you will need to get a copy of it.  This is commonly referred to as \"cloning\" a repository and you can find directions how to do it [here](https://help.github.com/articles/cloning-a-repository/).  Git is what is called version control software and is used to power the web-site GitHub.  You can interact with GitHub simply through your web browser, or by using client software.  I recommend sooner but the choice is up to you.  If you are using Linux or macOS, then you probably already have Git installed.  Enter `which git` at the command line, you will either see a path or `command not found`.  These lists of clients will provide you plenty of options to choose from:\n",
    "\n",
    "* [Command-line clients](https://git-scm.com/book/en/v2/Getting-Started-Installing-Git)\n",
    "* [GUI clients](https://git-scm.com/downloads/guis)\n",
    "\n",
    "**If you are new to Git -- that is awesome -- you will learn some Git basics that will help prepare you for working as a data scientist.  You do not need to know Git or anything but a novice user in this course.**   "
   ]
  },
  {
   "cell_type": "markdown",
   "metadata": {},
   "source": [
    "## Cloing the repo\n",
    "To get a copy of all the code in the repository, you need to `clone` it.  This simply means \"copy it\" and allows you to interact with others in the development of open source software.  The aima-python repository can be found at [github.com/aimacode/aima-python](https://github.com/aimacode/aima-python).  To clone simply enter `git clone https://github.com/aimacode/aima-python` from the command line.  Git will create a `aima-python` folder in whatever directory you ran the command from.  If you are using a GUI, find clone and provide it with `https://github.com/aimacode/aima-python`.   Once the command runs you should have the code downloaded.  Don't worry, you can delete this folder and repeat the process again and again.  "
   ]
  },
  {
   "cell_type": "markdown",
   "metadata": {},
   "source": [
    "## Preparing to work on this assignment\n",
    "\n",
    "To complete this assignment here are the steps you will need to complete: \n",
    "\n",
    "1. Download and copy this assignment into your repository\n",
    "\n",
    "2. Start Jupyter from above it and navigate into it (pretty much your only option in Windows)\n",
    "\n",
    "3. Start Jupyter in that directory "
   ]
  },
  {
   "cell_type": "markdown",
   "metadata": {},
   "source": [
    "## Import the needed packages\n",
    "\n",
    "To do this you will need to be running your Jupyter notebook from the aima-python directory.  This is where your aima-python repository is cloned.  If you get errors when you go to import the python packages needed for this assignment, then you are probably have not specified the path correctly.  There are two ways to check:\n",
    "1. `%pwd` - The present working directory magic shows in what directory Jupyter's is currentry running.\n",
    "2. `%ls` - The list magic shows the files in Jupyter's current working directory.\n"
   ]
  },
  {
   "cell_type": "markdown",
   "metadata": {},
   "source": [
    "From the command line you can start the notebook from wherever you like, if you use Anaconda Navigator, then it starts in location specific to your OS.  "
   ]
  },
  {
   "cell_type": "code",
   "execution_count": 2,
   "metadata": {},
   "outputs": [
    {
     "data": {
      "text/plain": [
       "'/Users/rob/Documents/GitHub/ai-course/assignments'"
      ]
     },
     "execution_count": 2,
     "metadata": {},
     "output_type": "execute_result"
    }
   ],
   "source": [
    "%pwd"
   ]
  },
  {
   "cell_type": "markdown",
   "metadata": {},
   "source": [
    "Below is where you change directories to where the aima-python code is located"
   ]
  },
  {
   "cell_type": "code",
   "execution_count": 3,
   "metadata": {},
   "outputs": [
    {
     "name": "stdout",
     "output_type": "stream",
     "text": [
      "/Users/rob/Documents/GitHub/aima-python\n"
     ]
    }
   ],
   "source": [
    "%cd ~/Documents/Github/aima-python"
   ]
  },
  {
   "cell_type": "code",
   "execution_count": 4,
   "metadata": {},
   "outputs": [
    {
     "data": {
      "text/plain": [
       "'/Users/rob/Documents/GitHub/aima-python'"
      ]
     },
     "execution_count": 4,
     "metadata": {},
     "output_type": "execute_result"
    }
   ],
   "source": [
    "%pwd"
   ]
  },
  {
   "cell_type": "code",
   "execution_count": 5,
   "metadata": {},
   "outputs": [],
   "source": [
    "from search import *\n",
    "from notebook import psource, heatmap, gaussian_kernel, show_map, final_path_colors, display_visual, plot_NQueens\n",
    "\n",
    "# Needed to hide warnings in the matplotlib sections\n",
    "import warnings\n",
    "warnings.filterwarnings(\"ignore\")"
   ]
  },
  {
   "cell_type": "code",
   "execution_count": 6,
   "metadata": {},
   "outputs": [],
   "source": [
    "%matplotlib inline\n",
    "import networkx as nx\n",
    "import matplotlib.pyplot as plt\n",
    "from matplotlib import lines\n",
    "\n",
    "from ipywidgets import interact\n",
    "import ipywidgets as widgets\n",
    "from IPython.display import display\n",
    "import time\n",
    "\n",
    "# Needed to hide warnings in the matplotlib sections\n",
    "import warnings\n",
    "warnings.filterwarnings(\"ignore\")"
   ]
  },
  {
   "cell_type": "markdown",
   "metadata": {},
   "source": [
    "## Define the problem class\n",
    "\n",
    "A problem is something to solve.  Here we represent it as python class.  Run the following cell and read the brief documentation of its methods. "
   ]
  },
  {
   "cell_type": "markdown",
   "metadata": {},
   "source": [
    "psource(Problem)"
   ]
  },
  {
   "cell_type": "markdown",
   "metadata": {},
   "source": [
    "## Elements of the graph\n",
    "\n",
    "Graphs are built from a network of interconnected nodes.  Each node has a link to other nodes.  This is an object-oriented approach to representing a graph.  Read over the descriptions of what each method does.  "
   ]
  },
  {
   "cell_type": "markdown",
   "metadata": {},
   "source": [
    "TODO - Determine why this notebook is being rendered differently than search.ipynb"
   ]
  },
  {
   "cell_type": "code",
   "execution_count": 7,
   "metadata": {},
   "outputs": [],
   "source": [
    "# psource(Node)"
   ]
  },
  {
   "cell_type": "code",
   "execution_count": 8,
   "metadata": {},
   "outputs": [],
   "source": [
    "# psource(GraphProblem)"
   ]
  },
  {
   "cell_type": "markdown",
   "metadata": {},
   "source": [
    "## Representing a map as a graph\n",
    "\n",
    "To illustrate how the examples in our textbook, we too will use a map of Romania. With apologies to Romainians everywhere, I will abbreviate the city names to one letter.  Compare the map and the data structure below.  Notice that from A you can get to Z, S and T and the distances between these nodes.  "
   ]
  },
  {
   "cell_type": "markdown",
   "metadata": {},
   "source": [
    "![Figure 3.2 Road map of Romania](../images/Figure-S3-2.png)"
   ]
  },
  {
   "cell_type": "code",
   "execution_count": 9,
   "metadata": {},
   "outputs": [],
   "source": [
    "# Distances from a node to one or more nodes.  \n",
    "romania_map = UndirectedGraph(dict(\n",
    "    A=dict(Z=75, S=140, T=118),\n",
    "    B=dict(U=85, P=101, G=90, F=211),\n",
    "    C=dict(D=120, R=146, P=138),\n",
    "    D=dict(M=75),\n",
    "    E=dict(H=86),\n",
    "    F=dict(S=99),\n",
    "    H=dict(U=98),\n",
    "    I=dict(V=92, N=87),\n",
    "    L=dict(T=111, M=70),\n",
    "    O=dict(Z=71, S=151),\n",
    "    P=dict(R=97),\n",
    "    R=dict(S=80),\n",
    "    U=dict(V=142)))\n",
    "\n",
    "romania_map.locations = dict(\n",
    "    A=(91, 492), B=(400, 327), C=(253, 288),\n",
    "    D=(165, 299), E=(562, 293), F=(305, 449),\n",
    "    G=(375, 270), H=(534, 350), I=(473, 506),\n",
    "    L=(165, 379), M=(168, 339), N=(406, 537),\n",
    "    O=(131, 571), P=(320, 368), R=(233, 410),\n",
    "    S=(207, 457), T=(94, 410), U=(456, 350),\n",
    "    V=(509, 444), Z=(108, 531))"
   ]
  },
  {
   "cell_type": "markdown",
   "metadata": {},
   "source": [
    "Use python's `type(object)` operator to find out what type of the romania_map object"
   ]
  },
  {
   "cell_type": "code",
   "execution_count": 10,
   "metadata": {},
   "outputs": [
    {
     "data": {
      "text/plain": [
       "search.Graph"
      ]
     },
     "execution_count": 10,
     "metadata": {},
     "output_type": "execute_result"
    }
   ],
   "source": [
    "type(romania_map)"
   ]
  },
  {
   "cell_type": "markdown",
   "metadata": {},
   "source": [
    "Now find out what methods is offers by typing `romanian_map.` and then press the _TAB_ key.  You should see a drop down box with two methods: `connect` and `connect1`.  "
   ]
  },
  {
   "cell_type": "code",
   "execution_count": null,
   "metadata": {},
   "outputs": [],
   "source": [
    "romania_map.connect?"
   ]
  },
  {
   "cell_type": "markdown",
   "metadata": {},
   "source": [
    "Now follow let's get the documentation for these functions so we can figure out how to use them.  To do this, enter `romania_map.connect?` then press _SHIFT + TAB_ simultaneously.  "
   ]
  },
  {
   "cell_type": "code",
   "execution_count": null,
   "metadata": {},
   "outputs": [],
   "source": [
    "romania_map"
   ]
  },
  {
   "cell_type": "markdown",
   "metadata": {},
   "source": [
    "## Create an instance of it"
   ]
  },
  {
   "cell_type": "code",
   "execution_count": null,
   "metadata": {},
   "outputs": [],
   "source": [
    "my_problem = HelloProblem(initial_state='')"
   ]
  },
  {
   "cell_type": "markdown",
   "metadata": {},
   "source": [
    "## Solve the problem\n",
    "Including a viewer is handy to see how the algorithm goes about solving the problem.  For large search spaces this can take a very long time, so small examples and or efficeint algorithms are recommended. "
   ]
  },
  {
   "cell_type": "code",
   "execution_count": null,
   "metadata": {},
   "outputs": [],
   "source": [
    "from simpleai.search.viewers import WebViewer"
   ]
  },
  {
   "cell_type": "code",
   "execution_count": null,
   "metadata": {},
   "outputs": [],
   "source": [
    "result = astar(my_problem, viewer=WebViewer())"
   ]
  },
  {
   "cell_type": "markdown",
   "metadata": {},
   "source": [
    "## What to expect\n",
    "\n",
    "```\n",
    "Running on http://0.0.0.0:8000/ (Press CTRL+C to quit)`\n",
    "\n",
    "Starting the WebViewer, access it from your web browser, navigating to the address:\n",
    "http://localhost:8000\n",
    "To stop the WebViewer, use the \"Stop running\" link (on the viewer site, from the browser)\n",
    "\n",
    "127.0.0.1 - - [19/May/2018 15:42:21] \"GET / HTTP/1.1\" 200 -\n",
    "...\n",
    "```"
   ]
  },
  {
   "cell_type": "markdown",
   "metadata": {},
   "source": [
    "## Visualizing the search\n",
    "\n",
    "Open the `http://0.0.0.0:8000` page in your browser to see the visualization.  Then, get an understanding of the visualation by reading through brief documentation.  Next, start driving the web application forward using the menu in the upper left corner.  "
   ]
  },
  {
   "cell_type": "code",
   "execution_count": null,
   "metadata": {},
   "outputs": [],
   "source": []
  }
 ],
 "metadata": {
  "kernelspec": {
   "display_name": "Python [default]",
   "language": "python",
   "name": "python3"
  },
  "language_info": {
   "codemirror_mode": {
    "name": "ipython",
    "version": 3
   },
   "file_extension": ".py",
   "mimetype": "text/x-python",
   "name": "python",
   "nbconvert_exporter": "python",
   "pygments_lexer": "ipython3",
   "version": "3.6.4"
  }
 },
 "nbformat": 4,
 "nbformat_minor": 2
}
