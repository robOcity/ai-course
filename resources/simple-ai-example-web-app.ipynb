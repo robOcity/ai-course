{
 "cells": [
  {
   "cell_type": "markdown",
   "metadata": {},
   "source": [
    "# Week 2 - Search for the goal"
   ]
  },
  {
   "cell_type": "code",
   "execution_count": 1,
   "metadata": {},
   "outputs": [],
   "source": [
    "from simpleai.search import SearchProblem\n",
    "from simpleai.search import breadth_first, greedy, astar"
   ]
  },
  {
   "cell_type": "markdown",
   "metadata": {},
   "source": [
    "## Define the problem class"
   ]
  },
  {
   "cell_type": "code",
   "execution_count": 2,
   "metadata": {},
   "outputs": [],
   "source": [
    "GOAL = 'HELLO WORLD'\n",
    "\n",
    "class RouteFinder(SearchProblem):\n",
    "    \n",
    "    def actions(self, state)\n",
    "        raise NotImplementedError\n",
    "        \n",
    "    def result(self, state, action):\n",
    "        raise NotImplementedError\n",
    "        \n",
    "    def is_goal(state):\n",
    "        raise NotImplementedError\n",
    "        \n",
    "        \n",
    "class HelloProblem(SearchProblem):\n",
    "    def actions(self, state):\n",
    "        if len(state) < len(GOAL):\n",
    "            return list(' ABCDEFGHIJKLMNOPQRSTUVWXYZ')\n",
    "        else:\n",
    "            return []\n",
    "\n",
    "    def result(self, state, action):\n",
    "        return state + action\n",
    "\n",
    "    def is_goal(self, state):\n",
    "        return state == GOAL\n",
    "    \n",
    "    def cost(self, state, action, state2):\n",
    "        # cost of each action taken\n",
    "        return 1\n",
    "    \n",
    "    def heuristic(self, state):\n",
    "        # Astar needs an estimate of the minumim distance to the goal?\n",
    "        wrong = sum([1 if state[i] != GOAL[i] else 0\n",
    "                    for i in range(len(state))])\n",
    "        missing = len(GOAL) - len(state)\n",
    "        return wrong + missing"
   ]
  },
  {
   "cell_type": "markdown",
   "metadata": {},
   "source": [
    "## Create an instance of it"
   ]
  },
  {
   "cell_type": "code",
   "execution_count": 3,
   "metadata": {},
   "outputs": [],
   "source": [
    "my_problem = HelloProblem(initial_state='')"
   ]
  },
  {
   "cell_type": "markdown",
   "metadata": {},
   "source": [
    "## Solve the problem\n",
    "Including a viewer is handy to see how the algorithm goes about solving the problem.  For large search spaces this can take a very long time, so small examples and or efficeint algorithms are recommended. "
   ]
  },
  {
   "cell_type": "code",
   "execution_count": 4,
   "metadata": {},
   "outputs": [],
   "source": [
    "from simpleai.search.viewers import WebViewer"
   ]
  },
  {
   "cell_type": "code",
   "execution_count": null,
   "metadata": {},
   "outputs": [
    {
     "name": "stderr",
     "output_type": "stream",
     "text": [
      " * Running on http://0.0.0.0:8000/ (Press CTRL+C to quit)\n"
     ]
    },
    {
     "name": "stdout",
     "output_type": "stream",
     "text": [
      "Starting the WebViewer, access it from your web browser, navigating to the address:\n",
      "http://localhost:8000\n",
      "To stop the WebViewer, use the \"Stop running\" link (on the viewer site, from the browser)\n"
     ]
    },
    {
     "name": "stderr",
     "output_type": "stream",
     "text": [
      "127.0.0.1 - - [19/May/2018 16:10:08] \"GET / HTTP/1.1\" 200 -\n",
      "127.0.0.1 - - [19/May/2018 16:10:08] \"GET /static/angular.min.js HTTP/1.1\" 304 -\n",
      "127.0.0.1 - - [19/May/2018 16:10:08] \"GET /static/jquery-2.0.2.min.js HTTP/1.1\" 304 -\n",
      "127.0.0.1 - - [19/May/2018 16:10:08] \"GET /static/EventSource.js HTTP/1.1\" 304 -\n",
      "127.0.0.1 - - [19/May/2018 16:10:08] \"GET /static/jquery.panzoom.min.js HTTP/1.1\" 304 -\n",
      "127.0.0.1 - - [19/May/2018 16:10:08] \"GET /static/main.js HTTP/1.1\" 304 -\n",
      "127.0.0.1 - - [19/May/2018 16:10:08] \"GET /static/styles.css HTTP/1.1\" 304 -\n",
      "127.0.0.1 - - [19/May/2018 16:10:08] \"GET /graph HTTP/1.1\" 200 -\n",
      "127.0.0.1 - - [19/May/2018 16:10:08] \"GET /event_stream HTTP/1.1\" 200 -\n",
      "127.0.0.1 - - [19/May/2018 16:10:08] \"GET /graph?unique=1526767808921 HTTP/1.1\" 200 -\n",
      "127.0.0.1 - - [19/May/2018 16:10:39] \"GET /control/step HTTP/1.1\" 200 -\n",
      "127.0.0.1 - - [19/May/2018 16:10:39] \"GET /graph?unique=1526767839880 HTTP/1.1\" 200 -\n",
      "127.0.0.1 - - [19/May/2018 16:10:43] \"GET /control/step HTTP/1.1\" 200 -\n",
      "127.0.0.1 - - [19/May/2018 16:10:44] \"GET /graph?unique=1526767844381 HTTP/1.1\" 200 -\n",
      "127.0.0.1 - - [19/May/2018 16:10:54] \"GET /control/step HTTP/1.1\" 200 -\n",
      "127.0.0.1 - - [19/May/2018 16:10:55] \"GET /graph?unique=1526767855443 HTTP/1.1\" 200 -\n"
     ]
    }
   ],
   "source": [
    "result = astar(my_problem, viewer=WebViewer())"
   ]
  },
  {
   "cell_type": "markdown",
   "metadata": {},
   "source": [
    "## What to expect\n",
    "\n",
    "```\n",
    "Running on http://0.0.0.0:8000/ (Press CTRL+C to quit)`\n",
    "\n",
    "Starting the WebViewer, access it from your web browser, navigating to the address:\n",
    "http://localhost:8000\n",
    "To stop the WebViewer, use the \"Stop running\" link (on the viewer site, from the browser)\n",
    "\n",
    "127.0.0.1 - - [19/May/2018 15:42:21] \"GET / HTTP/1.1\" 200 -\n",
    "...\n",
    "```"
   ]
  },
  {
   "cell_type": "markdown",
   "metadata": {},
   "source": [
    "## Visualizing the search\n",
    "\n",
    "Open the `http://0.0.0.0:8000` page in your browser to see the visualization.  Then, get an understanding of the visualation by reading through brief documentation.  Next, start driving the web application forward using the menu in the upper left corner.  "
   ]
  },
  {
   "cell_type": "code",
   "execution_count": null,
   "metadata": {},
   "outputs": [],
   "source": []
  }
 ],
 "metadata": {
  "kernelspec": {
   "display_name": "Python [default]",
   "language": "python",
   "name": "python3"
  },
  "language_info": {
   "codemirror_mode": {
    "name": "ipython",
    "version": 3
   },
   "file_extension": ".py",
   "mimetype": "text/x-python",
   "name": "python",
   "nbconvert_exporter": "python",
   "pygments_lexer": "ipython3",
   "version": "3.6.5"
  }
 },
 "nbformat": 4,
 "nbformat_minor": 2
}
